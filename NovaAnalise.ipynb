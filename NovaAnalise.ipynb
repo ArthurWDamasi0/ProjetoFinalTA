{
 "cells": [
  {
   "cell_type": "markdown",
   "metadata": {},
   "source": [
    "<h1>Análise Exploratória e Limpeza dos Dados</h1>\n",
    "<p>Para que possamos realizar uma boa análise do nosso conjunto de dados e, logo em seguida, a limpeza, devemos determinar qual é o nosso objetivo.</p>\n",
    "<p>Começando pelo enunciado do projeto, temos que o objetivo é criar um modelo que seja capaz de predizer, com base no perfil do cliente e na forma de contato com cliente, se o serviço foi ou não contratado. Para isso, devemos determinar quais as características do cliente são relevantes, ou seja, quais features influenciam no comportamento da target. Posteriormente, poderemos limpar o conjunto de dados e deixá-lo pronto para o treinamento do modelo.</p>"
   ]
  },
  {
   "cell_type": "code",
   "execution_count": 9,
   "metadata": {},
   "outputs": [],
   "source": [
    "import numpy as np\n",
    "import matplotlib.pyplot as plt\n",
    "import seaborn as sns\n",
    "import pandas as pd\n",
    "from sklearn.impute import KNNImputer"
   ]
  },
  {
   "cell_type": "code",
   "execution_count": 10,
   "metadata": {},
   "outputs": [
    {
     "data": {
      "text/html": [
       "<div>\n",
       "<style scoped>\n",
       "    .dataframe tbody tr th:only-of-type {\n",
       "        vertical-align: middle;\n",
       "    }\n",
       "\n",
       "    .dataframe tbody tr th {\n",
       "        vertical-align: top;\n",
       "    }\n",
       "\n",
       "    .dataframe thead th {\n",
       "        text-align: right;\n",
       "    }\n",
       "</style>\n",
       "<table border=\"1\" class=\"dataframe\">\n",
       "  <thead>\n",
       "    <tr style=\"text-align: right;\">\n",
       "      <th></th>\n",
       "      <th>id</th>\n",
       "      <th>age</th>\n",
       "      <th>job</th>\n",
       "      <th>marital</th>\n",
       "      <th>education</th>\n",
       "      <th>location</th>\n",
       "      <th>default</th>\n",
       "      <th>balance</th>\n",
       "      <th>housing</th>\n",
       "      <th>loan</th>\n",
       "      <th>contact</th>\n",
       "      <th>day</th>\n",
       "      <th>month</th>\n",
       "      <th>duration</th>\n",
       "      <th>campaign</th>\n",
       "      <th>pdays</th>\n",
       "      <th>previous</th>\n",
       "      <th>poutcome</th>\n",
       "      <th>y</th>\n",
       "    </tr>\n",
       "  </thead>\n",
       "  <tbody>\n",
       "    <tr>\n",
       "      <th>0</th>\n",
       "      <td>0</td>\n",
       "      <td>41.0</td>\n",
       "      <td>management</td>\n",
       "      <td>single</td>\n",
       "      <td>tertiary</td>\n",
       "      <td>NaN</td>\n",
       "      <td>no</td>\n",
       "      <td>4522.0</td>\n",
       "      <td>no</td>\n",
       "      <td>no</td>\n",
       "      <td>cellular</td>\n",
       "      <td>28</td>\n",
       "      <td>aug</td>\n",
       "      <td>55</td>\n",
       "      <td>1.0</td>\n",
       "      <td>-1</td>\n",
       "      <td>0.0</td>\n",
       "      <td>unknown</td>\n",
       "      <td>no</td>\n",
       "    </tr>\n",
       "    <tr>\n",
       "      <th>1</th>\n",
       "      <td>1</td>\n",
       "      <td>42.0</td>\n",
       "      <td>blue-collar</td>\n",
       "      <td>married</td>\n",
       "      <td>primary</td>\n",
       "      <td>NaN</td>\n",
       "      <td>yes</td>\n",
       "      <td>398.0</td>\n",
       "      <td>yes</td>\n",
       "      <td>n</td>\n",
       "      <td>unknown</td>\n",
       "      <td>16</td>\n",
       "      <td>may</td>\n",
       "      <td>251</td>\n",
       "      <td>4.0</td>\n",
       "      <td>-1</td>\n",
       "      <td>0.0</td>\n",
       "      <td>unknown</td>\n",
       "      <td>no</td>\n",
       "    </tr>\n",
       "    <tr>\n",
       "      <th>2</th>\n",
       "      <td>2</td>\n",
       "      <td>26.0</td>\n",
       "      <td>student</td>\n",
       "      <td>single</td>\n",
       "      <td>secondary</td>\n",
       "      <td>Lisboa</td>\n",
       "      <td>no</td>\n",
       "      <td>706.0</td>\n",
       "      <td>no</td>\n",
       "      <td>no</td>\n",
       "      <td>unknown</td>\n",
       "      <td>8</td>\n",
       "      <td>oct</td>\n",
       "      <td>118</td>\n",
       "      <td>1.0</td>\n",
       "      <td>105</td>\n",
       "      <td>2.0</td>\n",
       "      <td>other</td>\n",
       "      <td>no</td>\n",
       "    </tr>\n",
       "    <tr>\n",
       "      <th>3</th>\n",
       "      <td>3</td>\n",
       "      <td>54.0</td>\n",
       "      <td>management</td>\n",
       "      <td>married</td>\n",
       "      <td>tertiary</td>\n",
       "      <td>NaN</td>\n",
       "      <td>no</td>\n",
       "      <td>0.0</td>\n",
       "      <td>no</td>\n",
       "      <td>y</td>\n",
       "      <td>cellular</td>\n",
       "      <td>19</td>\n",
       "      <td>nov</td>\n",
       "      <td>307</td>\n",
       "      <td>3.0</td>\n",
       "      <td>-1</td>\n",
       "      <td>0.0</td>\n",
       "      <td>unknown</td>\n",
       "      <td>no</td>\n",
       "    </tr>\n",
       "    <tr>\n",
       "      <th>4</th>\n",
       "      <td>4</td>\n",
       "      <td>43.0</td>\n",
       "      <td>self-employed</td>\n",
       "      <td>married</td>\n",
       "      <td>secondary</td>\n",
       "      <td>Porto</td>\n",
       "      <td>no</td>\n",
       "      <td>918.0</td>\n",
       "      <td>yes</td>\n",
       "      <td>no</td>\n",
       "      <td>unknown</td>\n",
       "      <td>6</td>\n",
       "      <td>may</td>\n",
       "      <td>193</td>\n",
       "      <td>1.0</td>\n",
       "      <td>-1</td>\n",
       "      <td>0.0</td>\n",
       "      <td>unknown</td>\n",
       "      <td>no</td>\n",
       "    </tr>\n",
       "    <tr>\n",
       "      <th>...</th>\n",
       "      <td>...</td>\n",
       "      <td>...</td>\n",
       "      <td>...</td>\n",
       "      <td>...</td>\n",
       "      <td>...</td>\n",
       "      <td>...</td>\n",
       "      <td>...</td>\n",
       "      <td>...</td>\n",
       "      <td>...</td>\n",
       "      <td>...</td>\n",
       "      <td>...</td>\n",
       "      <td>...</td>\n",
       "      <td>...</td>\n",
       "      <td>...</td>\n",
       "      <td>...</td>\n",
       "      <td>...</td>\n",
       "      <td>...</td>\n",
       "      <td>...</td>\n",
       "      <td>...</td>\n",
       "    </tr>\n",
       "    <tr>\n",
       "      <th>39995</th>\n",
       "      <td>39995</td>\n",
       "      <td>43.0</td>\n",
       "      <td>management</td>\n",
       "      <td>married</td>\n",
       "      <td>tertiary</td>\n",
       "      <td>Lisboa</td>\n",
       "      <td>no</td>\n",
       "      <td>13851.0</td>\n",
       "      <td>yes</td>\n",
       "      <td>no</td>\n",
       "      <td>cellular</td>\n",
       "      <td>21</td>\n",
       "      <td>nov</td>\n",
       "      <td>259</td>\n",
       "      <td>1.0</td>\n",
       "      <td>-1</td>\n",
       "      <td>0.0</td>\n",
       "      <td>unknown</td>\n",
       "      <td>no</td>\n",
       "    </tr>\n",
       "    <tr>\n",
       "      <th>39996</th>\n",
       "      <td>39996</td>\n",
       "      <td>34.0</td>\n",
       "      <td>blue-collar</td>\n",
       "      <td>married</td>\n",
       "      <td>primary</td>\n",
       "      <td>NaN</td>\n",
       "      <td>no</td>\n",
       "      <td>357.0</td>\n",
       "      <td>yes</td>\n",
       "      <td>no</td>\n",
       "      <td>unknown</td>\n",
       "      <td>14</td>\n",
       "      <td>may</td>\n",
       "      <td>197</td>\n",
       "      <td>2.0</td>\n",
       "      <td>-1</td>\n",
       "      <td>0.0</td>\n",
       "      <td>unknown</td>\n",
       "      <td>no</td>\n",
       "    </tr>\n",
       "    <tr>\n",
       "      <th>39997</th>\n",
       "      <td>39997</td>\n",
       "      <td>30.0</td>\n",
       "      <td>management</td>\n",
       "      <td>single</td>\n",
       "      <td>tertiary</td>\n",
       "      <td>NaN</td>\n",
       "      <td>no</td>\n",
       "      <td>4889.0</td>\n",
       "      <td>no</td>\n",
       "      <td>no</td>\n",
       "      <td>cellular</td>\n",
       "      <td>11</td>\n",
       "      <td>aug</td>\n",
       "      <td>545</td>\n",
       "      <td>2.0</td>\n",
       "      <td>-1</td>\n",
       "      <td>0.0</td>\n",
       "      <td>unknown</td>\n",
       "      <td>yes</td>\n",
       "    </tr>\n",
       "    <tr>\n",
       "      <th>39998</th>\n",
       "      <td>39998</td>\n",
       "      <td>40.0</td>\n",
       "      <td>self-employed</td>\n",
       "      <td>married</td>\n",
       "      <td>tertiary</td>\n",
       "      <td>Lisboa</td>\n",
       "      <td>no</td>\n",
       "      <td>271.0</td>\n",
       "      <td>yes</td>\n",
       "      <td>no</td>\n",
       "      <td>cellular</td>\n",
       "      <td>21</td>\n",
       "      <td>nov</td>\n",
       "      <td>124</td>\n",
       "      <td>3.0</td>\n",
       "      <td>102</td>\n",
       "      <td>4.0</td>\n",
       "      <td>failure</td>\n",
       "      <td>no</td>\n",
       "    </tr>\n",
       "    <tr>\n",
       "      <th>39999</th>\n",
       "      <td>39999</td>\n",
       "      <td>60.0</td>\n",
       "      <td>housemaid</td>\n",
       "      <td>married</td>\n",
       "      <td>tertiary</td>\n",
       "      <td>NaN</td>\n",
       "      <td>no</td>\n",
       "      <td>443.0</td>\n",
       "      <td>no</td>\n",
       "      <td>n</td>\n",
       "      <td>unknown</td>\n",
       "      <td>5</td>\n",
       "      <td>jun</td>\n",
       "      <td>60</td>\n",
       "      <td>1.0</td>\n",
       "      <td>-1</td>\n",
       "      <td>0.0</td>\n",
       "      <td>unknown</td>\n",
       "      <td>no</td>\n",
       "    </tr>\n",
       "  </tbody>\n",
       "</table>\n",
       "<p>40000 rows × 19 columns</p>\n",
       "</div>"
      ],
      "text/plain": [
       "          id   age            job  marital  education location default  \\\n",
       "0          0  41.0     management   single   tertiary      NaN      no   \n",
       "1          1  42.0    blue-collar  married    primary      NaN     yes   \n",
       "2          2  26.0        student   single  secondary   Lisboa      no   \n",
       "3          3  54.0     management  married   tertiary      NaN      no   \n",
       "4          4  43.0  self-employed  married  secondary    Porto      no   \n",
       "...      ...   ...            ...      ...        ...      ...     ...   \n",
       "39995  39995  43.0     management  married   tertiary   Lisboa      no   \n",
       "39996  39996  34.0    blue-collar  married    primary      NaN      no   \n",
       "39997  39997  30.0     management   single   tertiary      NaN      no   \n",
       "39998  39998  40.0  self-employed  married   tertiary   Lisboa      no   \n",
       "39999  39999  60.0      housemaid  married   tertiary      NaN      no   \n",
       "\n",
       "       balance housing loan   contact  day month  duration  campaign  pdays  \\\n",
       "0       4522.0      no   no  cellular   28   aug        55       1.0     -1   \n",
       "1        398.0     yes    n   unknown   16   may       251       4.0     -1   \n",
       "2        706.0      no   no   unknown    8   oct       118       1.0    105   \n",
       "3          0.0      no    y  cellular   19   nov       307       3.0     -1   \n",
       "4        918.0     yes   no   unknown    6   may       193       1.0     -1   \n",
       "...        ...     ...  ...       ...  ...   ...       ...       ...    ...   \n",
       "39995  13851.0     yes   no  cellular   21   nov       259       1.0     -1   \n",
       "39996    357.0     yes   no   unknown   14   may       197       2.0     -1   \n",
       "39997   4889.0      no   no  cellular   11   aug       545       2.0     -1   \n",
       "39998    271.0     yes   no  cellular   21   nov       124       3.0    102   \n",
       "39999    443.0      no    n   unknown    5   jun        60       1.0     -1   \n",
       "\n",
       "       previous poutcome    y  \n",
       "0           0.0  unknown   no  \n",
       "1           0.0  unknown   no  \n",
       "2           2.0    other   no  \n",
       "3           0.0  unknown   no  \n",
       "4           0.0  unknown   no  \n",
       "...         ...      ...  ...  \n",
       "39995       0.0  unknown   no  \n",
       "39996       0.0  unknown   no  \n",
       "39997       0.0  unknown  yes  \n",
       "39998       4.0  failure   no  \n",
       "39999       0.0  unknown   no  \n",
       "\n",
       "[40000 rows x 19 columns]"
      ]
     },
     "metadata": {},
     "output_type": "display_data"
    }
   ],
   "source": [
    "df = pd.read_csv('./raw_data/bank_train.csv')\n",
    "display(df)"
   ]
  },
  {
   "cell_type": "markdown",
   "metadata": {},
   "source": [
    "<h2>Breve descrição das features presentes:</h2>\n",
    "<ul>\n",
    "    <li><b>id: </b>Número de identificação do cliente</li>\n",
    "    <li><b>age: </b> Idade do cliente</li>\n",
    "    <li><b>job: </b>Tipo de emprego do cliente</li>\n",
    "    <li><b>marital: </b>Estado Civil</li>\n",
    "    <li><b>education: </b>Grau de Educação</li>\n",
    "    <li><b>location: </b>Localidade</li>\n",
    "    <li><b>default: </b>Se o cliente possui crédito de inadimplência</li>\n",
    "    <li><b>balance: </b>Balanço médio anual, em euros</li>\n",
    "    <li><b>housing: </b>Se possui ou não empréstimo habitacional</li>\n",
    "    <li><b>loan: </b>Se possui um empréstimo ativo</li>\n",
    "    <li><b>contact: </b>Tipo de comunicação realizada (no último contato)</li>\n",
    "    <li><b>day: </b>Dia do último contato</li>\n",
    "    <li><b>month: </b>Mês do último contato</li>\n",
    "    <li><b>duration: </b>Duração do último contato, em minutos</li>\n",
    "    <li><b>campaign: </b>Número de contatos realizados com o cliente durante a campanha</li>\n",
    "    <li><b>pdays: </b>Número de dias passados desde o contato com o/a cliente em uma campanha anterior, -1 caso o cliente nunca houvesse sido contatatado</li>\n",
    "    <li><b>previous: </b>Número de contatos realizados antes desta campanha</li>\n",
    "    <li><b>poutcome: </b>Resultado da campanha de marketing anterior</li>\n",
    "    <li><b>(TARGET) y: </b>Contratação ou não do serviço do banco pelo cliente (Sucesso da campanha)</li>\n",
    "</ul>"
   ]
  },
  {
   "cell_type": "markdown",
   "metadata": {},
   "source": [
    "<h3>Vejamos algumas informações sobre os formatos dos dados e o número de dados faltantes</h3>\n",
    "<p>Obs.: Para facilitar a análise, será removida a coluna \"id\", pois esta é apenas a identificação do cliente</p>"
   ]
  },
  {
   "cell_type": "code",
   "execution_count": 11,
   "metadata": {},
   "outputs": [],
   "source": [
    "#Remoção da coluna id:\n",
    "df = df.drop(columns=[\"id\"])"
   ]
  },
  {
   "cell_type": "code",
   "execution_count": 12,
   "metadata": {},
   "outputs": [
    {
     "name": "stdout",
     "output_type": "stream",
     "text": [
      "<class 'pandas.core.frame.DataFrame'>\n",
      "RangeIndex: 40000 entries, 0 to 39999\n",
      "Data columns (total 18 columns):\n",
      " #   Column     Non-Null Count  Dtype  \n",
      "---  ------     --------------  -----  \n",
      " 0   age        38801 non-null  float64\n",
      " 1   job        38651 non-null  object \n",
      " 2   marital    39903 non-null  object \n",
      " 3   education  40000 non-null  object \n",
      " 4   location   18498 non-null  object \n",
      " 5   default    40000 non-null  object \n",
      " 6   balance    38208 non-null  float64\n",
      " 7   housing    40000 non-null  object \n",
      " 8   loan       40000 non-null  object \n",
      " 9   contact    39266 non-null  object \n",
      " 10  day        40000 non-null  int64  \n",
      " 11  month      40000 non-null  object \n",
      " 12  duration   40000 non-null  int64  \n",
      " 13  campaign   38603 non-null  float64\n",
      " 14  pdays      40000 non-null  int64  \n",
      " 15  previous   39703 non-null  float64\n",
      " 16  poutcome   40000 non-null  object \n",
      " 17  y          40000 non-null  object \n",
      "dtypes: float64(4), int64(3), object(11)\n",
      "memory usage: 5.5+ MB\n"
     ]
    }
   ],
   "source": [
    "#Visualização da quantidade e tipo dos dados para cada feature:\n",
    "df.info()"
   ]
  },
  {
   "cell_type": "code",
   "execution_count": 13,
   "metadata": {},
   "outputs": [
    {
     "name": "stdout",
     "output_type": "stream",
     "text": [
      "AGE\n",
      "[ 41.  42.  26.  54.  43.  34.  40.  45.  51.  21.  32.  60.  47.  46.\n",
      "  31.  53.  27.  29.  35.  36.  nan  25.  37.  50.  77.  57.  30.  58.\n",
      "  33.  44.  48.  55.  61.  84.  28.  39.  63.  59.  38.  70.  56.  65.\n",
      "  49.  22.  71.  52.  74.  23.  24.  64.  19.  78.  62.  73.  69.  67.\n",
      "  66.  80.  68.  86.   8. 150.  72.  76.  83.  75.  20.  85.  82.  79.\n",
      "  87.  81.  18.  95.  88.  89.  90.  92.  94.  93.] float64 \n",
      "\n",
      "JOB\n",
      "['management' 'blue-collar' 'student' 'self-employed' 'technician'\n",
      " 'administrator' 'retired' 'housemaid' 'services' 'unemployed' nan\n",
      " 'admin.' 'unknown' 'entrepreneur'] object \n",
      "\n",
      "MARITAL\n",
      "['single' 'married' 'divorced' nan] object \n",
      "\n",
      "EDUCATION\n",
      "['tertiary' 'primary' 'secondary' 'unknown'] object \n",
      "\n",
      "LOCATION\n",
      "[nan 'Lisboa' 'Porto' 'Amadora' 'Braga' 'Coimbra' 'Faro'] object \n",
      "\n",
      "DEFAULT\n",
      "['no' 'yes'] object \n",
      "\n",
      "BALANCE\n",
      "[ 4522.   398.   706. ...  4820. 13851.  4889.] float64 \n",
      "\n",
      "HOUSING\n",
      "['no' 'yes'] object \n",
      "\n",
      "LOAN\n",
      "['no' 'n' 'y' 'yes'] object \n",
      "\n",
      "CONTACT\n",
      "['cellular' 'unknown' nan 'telephone'] object \n",
      "\n",
      "DAY\n",
      "[28 16  8 19  6 13 31 14  7 18  4 26  3 21  9 20 30  5  2 29  1 23 12 17\n",
      " 15 11 10 24 27 25 22] int64 \n",
      "\n",
      "MONTH\n",
      "['aug' 'may' 'oct' 'nov' 'jul' 'jun' 'apr' 'jan' 'feb' 'sep' 'mar' 'dec'] object \n",
      "\n",
      "DURATION\n",
      "[  55  251  118 ... 1388 1489 1070] int64 \n",
      "\n",
      "CAMPAIGN\n",
      "[ 1.  4.  3.  6.  2. nan  5. 31. 13. 30. 21.  7. 26.  8. 19. 10. 14.  9.\n",
      " 12. 15. 29. 22. 16. 17. 11. 18. 24. 28. 33. 36. 20. 25. 23. 32. 27. 35.\n",
      " 43. 55. 41. 37. 38. 39. 34. 50. 58.] float64 \n",
      "\n",
      "PDAYS\n",
      "[ -1 105 322 259 100 166  92   5 348 208 314 349 273  97 149  91 462 150\n",
      " 123 316 244 183 356 179 112 359 140 365 353 102 278 256 184 116 174 329\n",
      " 299  85 368 337 193 127 332 134 213 126  78  58 108 178   9 175 162  67\n",
      " 346 341 182 104 318 257 195 171 364  90 267 271  63 120 252  98 508 270\n",
      "  99 287  95  94 344 227 268  96 254 343 366 350 124 481 391 253 186  89\n",
      " 326 147 170 286 161 457 246 289 370 374 354 200 189 145 262 157 101 371\n",
      " 181 335 521 463 190 439 158 196  37 188 185 293 113  81 238 177 297 358\n",
      " 143 325 281 133  74 187 351 282 336 239  93 237 315 345 258 198 542 778\n",
      " 791 308 352 172 191 461 118 291  83 269 312 156 331 119 363 110  12  15\n",
      "  69 139 304 163 334 319 327 298 372 303 392 173   2  87 355 169 367 266\n",
      " 772 192 130  65 106 339 369 103 122 347 111 680 427 292 210 263 180 272\n",
      " 125 167 176 342 212  21 144 419  84 245 151 250 296 774 301 357 232 603\n",
      " 160 148  77 362 260 146 586  82 360 197 247 300 470  14  88 264 117 235\n",
      " 229 265 152 164 338   8 302 310 330   6 485 154 153 518  42 168  70 491\n",
      " 424 129 333 131 231 317 321 115 277  64 328  86 340 230 294 201 203 276\n",
      "  18 361 446 274 595 389 136 255 221 211 324 207 779  55 656  57 141 222\n",
      "  80 307 547 224 373 240 215 288 159  79 261 306 216 295 241  73 323 251\n",
      " 280  71 469 204 223 121 275 155 138 284 194 459  43 248  75  48 305  35\n",
      "  66 309 412  22  53 616 756  17 209 394 422  51  50 420 135 234 225   7\n",
      " 199 728 219 311 415 218 782 587 285 142 474 128 107  13  40 458  61 202\n",
      " 206 529 651 137 205 411 557 236 396 132 828  36 226 455 561 535 478  59\n",
      " 589 249 243 228 386 320  56 165  41  52  32  28 792 382 114 378   1  27\n",
      "  19 290 242  44 283 220 493 109 279  49  76 558 687  46 384 536 530  29\n",
      " 214 217 430 431 648 492 543 399 749 528 407 550 381  30 426 456  62 387\n",
      " 555 460 454 452 579 532  10 760 690 404 409   4 377 479 385 871  38 417\n",
      " 486 769 489 495 503 313 233 379 592 440 531 397 395 410 388 445   3 771\n",
      " 428 403 477 717 449 383 515 390 405 854 450 432 393 551 475  34  60  20\n",
      " 541 683 421  33 442 514  45  54 435 376  31 775 686 761 544 655 594 465\n",
      "  72 490  68 433 670 776  25 562  24 667 436 524 826 434  26 553 784 808\n",
      " 466 444 578 850 375 437 674 831 838 511 425 804 398 414 480 504 467] int64 \n",
      "\n",
      "PREVIOUS\n",
      "[  0.   2.   1.  nan   3.   4.   6.  10.  14.   8.  13.   5.  12.   9.\n",
      "  11.  40.   7.  18.  41.  22.  37.  20.  19.  23.  17. 275.  27.  29.\n",
      "  25.  15.  16.  28.  30.  26.  21.  24.  58.  55.  35.  38.  32.] float64 \n",
      "\n",
      "POUTCOME\n",
      "['unknown' 'other' 'failure' 'success'] object \n",
      "\n",
      "Y\n",
      "['no' 'yes'] object \n",
      "\n"
     ]
    }
   ],
   "source": [
    "#Visualização de valores únicos para cada feature:\n",
    "for col in df.columns:\n",
    "  print(col.upper())\n",
    "  print(df[col].unique(), df[col].dtype, \"\\n\")"
   ]
  },
  {
   "cell_type": "markdown",
   "metadata": {},
   "source": [
    "<p>Na saída acima, vemos a presença de dados \"unknown\". Neste projeto, consideramos \"unknown\" como dado faltante, pois este não representa de fato uma informação assim como um dado faltante.</p>"
   ]
  },
  {
   "cell_type": "code",
   "execution_count": 16,
   "metadata": {},
   "outputs": [],
   "source": [
    "#Substituição dos dados \"unknown\" por dado faltante:\n",
    "df = df.replace(\"unknown\", np.nan)"
   ]
  },
  {
   "cell_type": "code",
   "execution_count": 17,
   "metadata": {},
   "outputs": [
    {
     "data": {
      "text/plain": [
       "age           1199\n",
       "job           1588\n",
       "marital         97\n",
       "education     1639\n",
       "location     21502\n",
       "default          0\n",
       "balance       1792\n",
       "housing          0\n",
       "loan             0\n",
       "contact      12052\n",
       "day              0\n",
       "month            0\n",
       "duration         0\n",
       "campaign      1397\n",
       "pdays            0\n",
       "previous       297\n",
       "poutcome     32662\n",
       "y                0\n",
       "dtype: int64"
      ]
     },
     "execution_count": 17,
     "metadata": {},
     "output_type": "execute_result"
    }
   ],
   "source": [
    "#Visualização de dados faltantes em cada feature:\n",
    "df.isna().sum()"
   ]
  },
  {
   "cell_type": "markdown",
   "metadata": {},
   "source": [
    "<p>Rapidamente, observamos que há muitos dados faltantes nas features \"location\" e \"poutcome\". Essas duas colunas podem representar dados inutilizáveis. Antes de excluí-los, contudo, analisemos os seguintes dados com os seguintes gráficos a fim de identificar relações com a target.</p>"
   ]
  },
  {
   "cell_type": "code",
   "execution_count": 18,
   "metadata": {},
   "outputs": [
    {
     "data": {
      "image/png": "[encoded data removed]",
      "text/plain": [
       "<Figure size 1200x500 with 2 Axes>"
      ]
     },
     "metadata": {},
     "output_type": "display_data"
    }
   ],
   "source": [
    "#Apresentação do gráfico de barras com relação a localização:\n",
    "plt.figure(figsize = (12,5))\n",
    "plt.subplot(1,2,1)\n",
    "sns.countplot(data = df, x = \"location\")\n",
    "plt.subplot(1,2,2)\n",
    "sns.countplot(data = df, x = \"location\", hue = \"y\")\n",
    "plt.show()"
   ]
  },
  {
   "cell_type": "code",
   "execution_count": 19,
   "metadata": {},
   "outputs": [
    {
     "data": {
      "image/png": "[encoded data removed]",
      "text/plain": [
       "<Figure size 1200x500 with 2 Axes>"
      ]
     },
     "metadata": {},
     "output_type": "display_data"
    }
   ],
   "source": [
    "#Apresentação do gráfico de barras com relação ao poutcome:\n",
    "plt.figure(figsize = (12,5))\n",
    "plt.subplot(1,2,1)\n",
    "sns.countplot(data = df, x = \"poutcome\")\n",
    "plt.subplot(1,2,2)\n",
    "sns.countplot(data = df, x = \"poutcome\", hue = \"y\")\n",
    "plt.show()"
   ]
  },
  {
   "cell_type": "markdown",
   "metadata": {},
   "source": [
    "<p>Vejamos agora estes dados em porcentagem para ver se realmente apresentam relevância.</p>"
   ]
  },
  {
   "cell_type": "code",
   "execution_count": 21,
   "metadata": {},
   "outputs": [
    {
     "data": {
      "text/plain": [
       "<Figure size 809x500 with 0 Axes>"
      ]
     },
     "metadata": {},
     "output_type": "display_data"
    },
    {
     "data": {
      "image/png": "[encoded data removed]",
      "text/plain": [
       "<Figure size 640x480 with 1 Axes>"
      ]
     },
     "metadata": {},
     "output_type": "display_data"
    }
   ],
   "source": [
    "# Apresentação do gráfico percentil em barras da localização em relação ao y:\n",
    "plt.figure(figsize = (8.09,5))\n",
    "(df.groupby('location')['y'].value_counts(normalize=True)\n",
    "   .unstack('y').plot.bar(stacked=True)\n",
    ")\n",
    "plt.show()"
   ]
  },
  {
   "cell_type": "code",
   "execution_count": 22,
   "metadata": {},
   "outputs": [
    {
     "data": {
      "text/plain": [
       "<Figure size 809x500 with 0 Axes>"
      ]
     },
     "metadata": {},
     "output_type": "display_data"
    },
    {
     "data": {
      "image/png": "[encoded data removed]",
      "text/plain": [
       "<Figure size 640x480 with 1 Axes>"
      ]
     },
     "metadata": {},
     "output_type": "display_data"
    }
   ],
   "source": [
    "# Apresentação do gráfico percentil em barras da localização em relação ao y:\n",
    "plt.figure(figsize = (8.09,5))\n",
    "(df.groupby('poutcome')['y'].value_counts(normalize=True)\n",
    "   .unstack('y').plot.bar(stacked=True)\n",
    ")\n",
    "plt.show()"
   ]
  },
  {
   "cell_type": "markdown",
   "metadata": {},
   "source": [
    "<p>No caso da localização, temos que a variável target é independente da localização, pois os casos afirmativos, ou seja, \"y\" = yes não ultrapassam os 20%. Já no caso do poutcome, nos deparamos com um problema: este apresenta um grande correlação com a target, o que é evidenciado pela disparidade entre os casos de sucesso da campanha anterior e os demais casos. Contudo, temos uma grande falta de dados para essa feature.</p>"
   ]
  },
  {
   "cell_type": "markdown",
   "metadata": {},
   "source": []
  },
  {
   "cell_type": "markdown",
   "metadata": {},
   "source": []
  }
 ],
 "metadata": {
  "kernelspec": {
   "display_name": "base",
   "language": "python",
   "name": "python3"
  },
  "language_info": {
   "codemirror_mode": {
    "name": "ipython",
    "version": 3
   },
   "file_extension": ".py",
   "mimetype": "text/x-python",
   "name": "python",
   "nbconvert_exporter": "python",
   "pygments_lexer": "ipython3",
   "version": "3.9.18"
  }
 },
 "nbformat": 4,
 "nbformat_minor": 2
}
