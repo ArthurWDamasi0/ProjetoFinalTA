{
 "cells": [
  {
   "cell_type": "markdown",
   "metadata": {},
   "source": [
    "<h1>Análise Exploratória e Limpeza dos Dados</h1>\n",
    "<p>Para que possamos realizar uma boa análise do nosso conjunto de dados e, logo em seguida, a limpeza, devemos determinar qual é o nosso objetivo.</p>\n",
    "<p>Começando pelo enunciado do projeto, temos que o objetivo é criar um modelo que seja capaz de predizer, com base no perfil do cliente e na forma de contato com cliente, se o serviço foi ou não contratado. Para isso, devemos determinar quais as características do cliente são relevantes, ou seja, quais features influenciam no comportamento da target. Posteriormente, poderemos limpar o conjunto de dados e deixá-lo pronto para o treinamento do modelo.</p>"
   ]
  },
  {
   "cell_type": "code",
   "execution_count": 31,
   "metadata": {},
   "outputs": [],
   "source": [
    "import numpy as np\n",
    "import matplotlib.pyplot as plt\n",
    "import seaborn as sns\n",
    "import pandas as pd\n",
    "from sklearn.impute import KNNImputer"
   ]
  },
  {
   "cell_type": "code",
   "execution_count": 32,
   "metadata": {},
   "outputs": [
    {
     "data": {
      "text/html": [
       "<div>\n",
       "<style scoped>\n",
       "    .dataframe tbody tr th:only-of-type {\n",
       "        vertical-align: middle;\n",
       "    }\n",
       "\n",
       "    .dataframe tbody tr th {\n",
       "        vertical-align: top;\n",
       "    }\n",
       "\n",
       "    .dataframe thead th {\n",
       "        text-align: right;\n",
       "    }\n",
       "</style>\n",
       "<table border=\"1\" class=\"dataframe\">\n",
       "  <thead>\n",
       "    <tr style=\"text-align: right;\">\n",
       "      <th></th>\n",
       "      <th>id</th>\n",
       "      <th>age</th>\n",
       "      <th>job</th>\n",
       "      <th>marital</th>\n",
       "      <th>education</th>\n",
       "      <th>location</th>\n",
       "      <th>default</th>\n",
       "      <th>balance</th>\n",
       "      <th>housing</th>\n",
       "      <th>loan</th>\n",
       "      <th>contact</th>\n",
       "      <th>day</th>\n",
       "      <th>month</th>\n",
       "      <th>duration</th>\n",
       "      <th>campaign</th>\n",
       "      <th>pdays</th>\n",
       "      <th>previous</th>\n",
       "      <th>poutcome</th>\n",
       "      <th>y</th>\n",
       "    </tr>\n",
       "  </thead>\n",
       "  <tbody>\n",
       "    <tr>\n",
       "      <th>0</th>\n",
       "      <td>0</td>\n",
       "      <td>41.0</td>\n",
       "      <td>management</td>\n",
       "      <td>single</td>\n",
       "      <td>tertiary</td>\n",
       "      <td>NaN</td>\n",
       "      <td>no</td>\n",
       "      <td>4522.0</td>\n",
       "      <td>no</td>\n",
       "      <td>no</td>\n",
       "      <td>cellular</td>\n",
       "      <td>28</td>\n",
       "      <td>aug</td>\n",
       "      <td>55</td>\n",
       "      <td>1.0</td>\n",
       "      <td>-1</td>\n",
       "      <td>0.0</td>\n",
       "      <td>unknown</td>\n",
       "      <td>no</td>\n",
       "    </tr>\n",
       "    <tr>\n",
       "      <th>1</th>\n",
       "      <td>1</td>\n",
       "      <td>42.0</td>\n",
       "      <td>blue-collar</td>\n",
       "      <td>married</td>\n",
       "      <td>primary</td>\n",
       "      <td>NaN</td>\n",
       "      <td>yes</td>\n",
       "      <td>398.0</td>\n",
       "      <td>yes</td>\n",
       "      <td>n</td>\n",
       "      <td>unknown</td>\n",
       "      <td>16</td>\n",
       "      <td>may</td>\n",
       "      <td>251</td>\n",
       "      <td>4.0</td>\n",
       "      <td>-1</td>\n",
       "      <td>0.0</td>\n",
       "      <td>unknown</td>\n",
       "      <td>no</td>\n",
       "    </tr>\n",
       "    <tr>\n",
       "      <th>2</th>\n",
       "      <td>2</td>\n",
       "      <td>26.0</td>\n",
       "      <td>student</td>\n",
       "      <td>single</td>\n",
       "      <td>secondary</td>\n",
       "      <td>Lisboa</td>\n",
       "      <td>no</td>\n",
       "      <td>706.0</td>\n",
       "      <td>no</td>\n",
       "      <td>no</td>\n",
       "      <td>unknown</td>\n",
       "      <td>8</td>\n",
       "      <td>oct</td>\n",
       "      <td>118</td>\n",
       "      <td>1.0</td>\n",
       "      <td>105</td>\n",
       "      <td>2.0</td>\n",
       "      <td>other</td>\n",
       "      <td>no</td>\n",
       "    </tr>\n",
       "    <tr>\n",
       "      <th>3</th>\n",
       "      <td>3</td>\n",
       "      <td>54.0</td>\n",
       "      <td>management</td>\n",
       "      <td>married</td>\n",
       "      <td>tertiary</td>\n",
       "      <td>NaN</td>\n",
       "      <td>no</td>\n",
       "      <td>0.0</td>\n",
       "      <td>no</td>\n",
       "      <td>y</td>\n",
       "      <td>cellular</td>\n",
       "      <td>19</td>\n",
       "      <td>nov</td>\n",
       "      <td>307</td>\n",
       "      <td>3.0</td>\n",
       "      <td>-1</td>\n",
       "      <td>0.0</td>\n",
       "      <td>unknown</td>\n",
       "      <td>no</td>\n",
       "    </tr>\n",
       "    <tr>\n",
       "      <th>4</th>\n",
       "      <td>4</td>\n",
       "      <td>43.0</td>\n",
       "      <td>self-employed</td>\n",
       "      <td>married</td>\n",
       "      <td>secondary</td>\n",
       "      <td>Porto</td>\n",
       "      <td>no</td>\n",
       "      <td>918.0</td>\n",
       "      <td>yes</td>\n",
       "      <td>no</td>\n",
       "      <td>unknown</td>\n",
       "      <td>6</td>\n",
       "      <td>may</td>\n",
       "      <td>193</td>\n",
       "      <td>1.0</td>\n",
       "      <td>-1</td>\n",
       "      <td>0.0</td>\n",
       "      <td>unknown</td>\n",
       "      <td>no</td>\n",
       "    </tr>\n",
       "    <tr>\n",
       "      <th>...</th>\n",
       "      <td>...</td>\n",
       "      <td>...</td>\n",
       "      <td>...</td>\n",
       "      <td>...</td>\n",
       "      <td>...</td>\n",
       "      <td>...</td>\n",
       "      <td>...</td>\n",
       "      <td>...</td>\n",
       "      <td>...</td>\n",
       "      <td>...</td>\n",
       "      <td>...</td>\n",
       "      <td>...</td>\n",
       "      <td>...</td>\n",
       "      <td>...</td>\n",
       "      <td>...</td>\n",
       "      <td>...</td>\n",
       "      <td>...</td>\n",
       "      <td>...</td>\n",
       "      <td>...</td>\n",
       "    </tr>\n",
       "    <tr>\n",
       "      <th>39995</th>\n",
       "      <td>39995</td>\n",
       "      <td>43.0</td>\n",
       "      <td>management</td>\n",
       "      <td>married</td>\n",
       "      <td>tertiary</td>\n",
       "      <td>Lisboa</td>\n",
       "      <td>no</td>\n",
       "      <td>13851.0</td>\n",
       "      <td>yes</td>\n",
       "      <td>no</td>\n",
       "      <td>cellular</td>\n",
       "      <td>21</td>\n",
       "      <td>nov</td>\n",
       "      <td>259</td>\n",
       "      <td>1.0</td>\n",
       "      <td>-1</td>\n",
       "      <td>0.0</td>\n",
       "      <td>unknown</td>\n",
       "      <td>no</td>\n",
       "    </tr>\n",
       "    <tr>\n",
       "      <th>39996</th>\n",
       "      <td>39996</td>\n",
       "      <td>34.0</td>\n",
       "      <td>blue-collar</td>\n",
       "      <td>married</td>\n",
       "      <td>primary</td>\n",
       "      <td>NaN</td>\n",
       "      <td>no</td>\n",
       "      <td>357.0</td>\n",
       "      <td>yes</td>\n",
       "      <td>no</td>\n",
       "      <td>unknown</td>\n",
       "      <td>14</td>\n",
       "      <td>may</td>\n",
       "      <td>197</td>\n",
       "      <td>2.0</td>\n",
       "      <td>-1</td>\n",
       "      <td>0.0</td>\n",
       "      <td>unknown</td>\n",
       "      <td>no</td>\n",
       "    </tr>\n",
       "    <tr>\n",
       "      <th>39997</th>\n",
       "      <td>39997</td>\n",
       "      <td>30.0</td>\n",
       "      <td>management</td>\n",
       "      <td>single</td>\n",
       "      <td>tertiary</td>\n",
       "      <td>NaN</td>\n",
       "      <td>no</td>\n",
       "      <td>4889.0</td>\n",
       "      <td>no</td>\n",
       "      <td>no</td>\n",
       "      <td>cellular</td>\n",
       "      <td>11</td>\n",
       "      <td>aug</td>\n",
       "      <td>545</td>\n",
       "      <td>2.0</td>\n",
       "      <td>-1</td>\n",
       "      <td>0.0</td>\n",
       "      <td>unknown</td>\n",
       "      <td>yes</td>\n",
       "    </tr>\n",
       "    <tr>\n",
       "      <th>39998</th>\n",
       "      <td>39998</td>\n",
       "      <td>40.0</td>\n",
       "      <td>self-employed</td>\n",
       "      <td>married</td>\n",
       "      <td>tertiary</td>\n",
       "      <td>Lisboa</td>\n",
       "      <td>no</td>\n",
       "      <td>271.0</td>\n",
       "      <td>yes</td>\n",
       "      <td>no</td>\n",
       "      <td>cellular</td>\n",
       "      <td>21</td>\n",
       "      <td>nov</td>\n",
       "      <td>124</td>\n",
       "      <td>3.0</td>\n",
       "      <td>102</td>\n",
       "      <td>4.0</td>\n",
       "      <td>failure</td>\n",
       "      <td>no</td>\n",
       "    </tr>\n",
       "    <tr>\n",
       "      <th>39999</th>\n",
       "      <td>39999</td>\n",
       "      <td>60.0</td>\n",
       "      <td>housemaid</td>\n",
       "      <td>married</td>\n",
       "      <td>tertiary</td>\n",
       "      <td>NaN</td>\n",
       "      <td>no</td>\n",
       "      <td>443.0</td>\n",
       "      <td>no</td>\n",
       "      <td>n</td>\n",
       "      <td>unknown</td>\n",
       "      <td>5</td>\n",
       "      <td>jun</td>\n",
       "      <td>60</td>\n",
       "      <td>1.0</td>\n",
       "      <td>-1</td>\n",
       "      <td>0.0</td>\n",
       "      <td>unknown</td>\n",
       "      <td>no</td>\n",
       "    </tr>\n",
       "  </tbody>\n",
       "</table>\n",
       "<p>40000 rows × 19 columns</p>\n",
       "</div>"
      ],
      "text/plain": [
       "          id   age            job  marital  education location default  \\\n",
       "0          0  41.0     management   single   tertiary      NaN      no   \n",
       "1          1  42.0    blue-collar  married    primary      NaN     yes   \n",
       "2          2  26.0        student   single  secondary   Lisboa      no   \n",
       "3          3  54.0     management  married   tertiary      NaN      no   \n",
       "4          4  43.0  self-employed  married  secondary    Porto      no   \n",
       "...      ...   ...            ...      ...        ...      ...     ...   \n",
       "39995  39995  43.0     management  married   tertiary   Lisboa      no   \n",
       "39996  39996  34.0    blue-collar  married    primary      NaN      no   \n",
       "39997  39997  30.0     management   single   tertiary      NaN      no   \n",
       "39998  39998  40.0  self-employed  married   tertiary   Lisboa      no   \n",
       "39999  39999  60.0      housemaid  married   tertiary      NaN      no   \n",
       "\n",
       "       balance housing loan   contact  day month  duration  campaign  pdays  \\\n",
       "0       4522.0      no   no  cellular   28   aug        55       1.0     -1   \n",
       "1        398.0     yes    n   unknown   16   may       251       4.0     -1   \n",
       "2        706.0      no   no   unknown    8   oct       118       1.0    105   \n",
       "3          0.0      no    y  cellular   19   nov       307       3.0     -1   \n",
       "4        918.0     yes   no   unknown    6   may       193       1.0     -1   \n",
       "...        ...     ...  ...       ...  ...   ...       ...       ...    ...   \n",
       "39995  13851.0     yes   no  cellular   21   nov       259       1.0     -1   \n",
       "39996    357.0     yes   no   unknown   14   may       197       2.0     -1   \n",
       "39997   4889.0      no   no  cellular   11   aug       545       2.0     -1   \n",
       "39998    271.0     yes   no  cellular   21   nov       124       3.0    102   \n",
       "39999    443.0      no    n   unknown    5   jun        60       1.0     -1   \n",
       "\n",
       "       previous poutcome    y  \n",
       "0           0.0  unknown   no  \n",
       "1           0.0  unknown   no  \n",
       "2           2.0    other   no  \n",
       "3           0.0  unknown   no  \n",
       "4           0.0  unknown   no  \n",
       "...         ...      ...  ...  \n",
       "39995       0.0  unknown   no  \n",
       "39996       0.0  unknown   no  \n",
       "39997       0.0  unknown  yes  \n",
       "39998       4.0  failure   no  \n",
       "39999       0.0  unknown   no  \n",
       "\n",
       "[40000 rows x 19 columns]"
      ]
     },
     "metadata": {},
     "output_type": "display_data"
    }
   ],
   "source": [
    "df = pd.read_csv('./raw_data/bank_train.csv')\n",
    "display(df)"
   ]
  },
  {
   "cell_type": "markdown",
   "metadata": {},
   "source": [
    "<h2>Breve descrição das features presentes:</h2>\n",
    "<ul>\n",
    "    <li><b>id: </b>Número de identificação do cliente</li>\n",
    "    <li><b>age: </b> Idade do cliente</li>\n",
    "    <li><b>job: </b>Tipo de emprego do cliente</li>\n",
    "    <li><b>marital: </b>Estado Civil</li>\n",
    "    <li><b>education: </b>Grau de Educação</li>\n",
    "    <li><b>location: </b>Localidade</li>\n",
    "    <li><b>default: </b>Se o cliente possui crédito de inadimplência</li>\n",
    "    <li><b>balance: </b>Balanço médio anual, em euros</li>\n",
    "    <li><b>housing: </b>Se possui ou não empréstimo habitacional</li>\n",
    "    <li><b>loan: </b>Se possui um empréstimo ativo</li>\n",
    "    <li><b>contact: </b>Tipo de comunicação realizada (no último contato)</li>\n",
    "    <li><b>day: </b>Dia do último contato</li>\n",
    "    <li><b>month: </b>Mês do último contato</li>\n",
    "    <li><b>duration: </b>Duração do último contato, em minutos</li>\n",
    "    <li><b>campaign: </b>Número de contatos realizados com o cliente durante a campanha</li>\n",
    "    <li><b>pdays: </b>Número de dias passados desde o contato com o/a cliente em uma campanha anterior, -1 caso o cliente nunca houvesse sido contatatado</li>\n",
    "    <li><b>previous: </b>Número de contatos realizados antes desta campanha</li>\n",
    "    <li><b>poutcome: </b>Resultado da campanha de marketing anterior</li>\n",
    "    <li><b>(TARGET) y: </b>Contratação ou não do serviço do banco pelo cliente (Sucesso da campanha)</li>\n",
    "</ul>"
   ]
  },
  {
   "cell_type": "markdown",
   "metadata": {},
   "source": [
    "<h3>Vejamos algumas informações sobre os formatos dos dados e o número de dados faltantes</h3>\n",
    "<p>Obs.: Para facilitar a análise, será removida a coluna \"id\", pois esta é apenas a identificação do cliente</p>"
   ]
  },
  {
   "cell_type": "code",
   "execution_count": 33,
   "metadata": {},
   "outputs": [],
   "source": [
    "#Remoção da coluna id:\n",
    "df = df.drop(columns=[\"id\"])"
   ]
  },
  {
   "cell_type": "code",
   "execution_count": 34,
   "metadata": {},
   "outputs": [
    {
     "name": "stdout",
     "output_type": "stream",
     "text": [
      "<class 'pandas.core.frame.DataFrame'>\n",
      "RangeIndex: 40000 entries, 0 to 39999\n",
      "Data columns (total 18 columns):\n",
      " #   Column     Non-Null Count  Dtype  \n",
      "---  ------     --------------  -----  \n",
      " 0   age        38801 non-null  float64\n",
      " 1   job        38651 non-null  object \n",
      " 2   marital    39903 non-null  object \n",
      " 3   education  40000 non-null  object \n",
      " 4   location   18498 non-null  object \n",
      " 5   default    40000 non-null  object \n",
      " 6   balance    38208 non-null  float64\n",
      " 7   housing    40000 non-null  object \n",
      " 8   loan       40000 non-null  object \n",
      " 9   contact    39266 non-null  object \n",
      " 10  day        40000 non-null  int64  \n",
      " 11  month      40000 non-null  object \n",
      " 12  duration   40000 non-null  int64  \n",
      " 13  campaign   38603 non-null  float64\n",
      " 14  pdays      40000 non-null  int64  \n",
      " 15  previous   39703 non-null  float64\n",
      " 16  poutcome   40000 non-null  object \n",
      " 17  y          40000 non-null  object \n",
      "dtypes: float64(4), int64(3), object(11)\n",
      "memory usage: 5.5+ MB\n"
     ]
    }
   ],
   "source": [
    "#Visualização da quantidade e tipo dos dados para cada feature:\n",
    "df.info()"
   ]
  },
  {
   "cell_type": "code",
   "execution_count": 35,
   "metadata": {},
   "outputs": [
    {
     "name": "stdout",
     "output_type": "stream",
     "text": [
      "AGE\n",
      "[ 41.  42.  26.  54.  43.  34.  40.  45.  51.  21.  32.  60.  47.  46.\n",
      "  31.  53.  27.  29.  35.  36.  nan  25.  37.  50.  77.  57.  30.  58.\n",
      "  33.  44.  48.  55.  61.  84.  28.  39.  63.  59.  38.  70.  56.  65.\n",
      "  49.  22.  71.  52.  74.  23.  24.  64.  19.  78.  62.  73.  69.  67.\n",
      "  66.  80.  68.  86.   8. 150.  72.  76.  83.  75.  20.  85.  82.  79.\n",
      "  87.  81.  18.  95.  88.  89.  90.  92.  94.  93.] float64 \n",
      "\n",
      "JOB\n",
      "['management' 'blue-collar' 'student' 'self-employed' 'technician'\n",
      " 'administrator' 'retired' 'housemaid' 'services' 'unemployed' nan\n",
      " 'admin.' 'unknown' 'entrepreneur'] object \n",
      "\n",
      "MARITAL\n",
      "['single' 'married' 'divorced' nan] object \n",
      "\n",
      "EDUCATION\n",
      "['tertiary' 'primary' 'secondary' 'unknown'] object \n",
      "\n",
      "LOCATION\n",
      "[nan 'Lisboa' 'Porto' 'Amadora' 'Braga' 'Coimbra' 'Faro'] object \n",
      "\n",
      "DEFAULT\n",
      "['no' 'yes'] object \n",
      "\n",
      "BALANCE\n",
      "[ 4522.   398.   706. ...  4820. 13851.  4889.] float64 \n",
      "\n",
      "HOUSING\n",
      "['no' 'yes'] object \n",
      "\n",
      "LOAN\n",
      "['no' 'n' 'y' 'yes'] object \n",
      "\n",
      "CONTACT\n",
      "['cellular' 'unknown' nan 'telephone'] object \n",
      "\n",
      "DAY\n",
      "[28 16  8 19  6 13 31 14  7 18  4 26  3 21  9 20 30  5  2 29  1 23 12 17\n",
      " 15 11 10 24 27 25 22] int64 \n",
      "\n",
      "MONTH\n",
      "['aug' 'may' 'oct' 'nov' 'jul' 'jun' 'apr' 'jan' 'feb' 'sep' 'mar' 'dec'] object \n",
      "\n",
      "DURATION\n",
      "[  55  251  118 ... 1388 1489 1070] int64 \n",
      "\n",
      "CAMPAIGN\n",
      "[ 1.  4.  3.  6.  2. nan  5. 31. 13. 30. 21.  7. 26.  8. 19. 10. 14.  9.\n",
      " 12. 15. 29. 22. 16. 17. 11. 18. 24. 28. 33. 36. 20. 25. 23. 32. 27. 35.\n",
      " 43. 55. 41. 37. 38. 39. 34. 50. 58.] float64 \n",
      "\n",
      "PDAYS\n",
      "[ -1 105 322 259 100 166  92   5 348 208 314 349 273  97 149  91 462 150\n",
      " 123 316 244 183 356 179 112 359 140 365 353 102 278 256 184 116 174 329\n",
      " 299  85 368 337 193 127 332 134 213 126  78  58 108 178   9 175 162  67\n",
      " 346 341 182 104 318 257 195 171 364  90 267 271  63 120 252  98 508 270\n",
      "  99 287  95  94 344 227 268  96 254 343 366 350 124 481 391 253 186  89\n",
      " 326 147 170 286 161 457 246 289 370 374 354 200 189 145 262 157 101 371\n",
      " 181 335 521 463 190 439 158 196  37 188 185 293 113  81 238 177 297 358\n",
      " 143 325 281 133  74 187 351 282 336 239  93 237 315 345 258 198 542 778\n",
      " 791 308 352 172 191 461 118 291  83 269 312 156 331 119 363 110  12  15\n",
      "  69 139 304 163 334 319 327 298 372 303 392 173   2  87 355 169 367 266\n",
      " 772 192 130  65 106 339 369 103 122 347 111 680 427 292 210 263 180 272\n",
      " 125 167 176 342 212  21 144 419  84 245 151 250 296 774 301 357 232 603\n",
      " 160 148  77 362 260 146 586  82 360 197 247 300 470  14  88 264 117 235\n",
      " 229 265 152 164 338   8 302 310 330   6 485 154 153 518  42 168  70 491\n",
      " 424 129 333 131 231 317 321 115 277  64 328  86 340 230 294 201 203 276\n",
      "  18 361 446 274 595 389 136 255 221 211 324 207 779  55 656  57 141 222\n",
      "  80 307 547 224 373 240 215 288 159  79 261 306 216 295 241  73 323 251\n",
      " 280  71 469 204 223 121 275 155 138 284 194 459  43 248  75  48 305  35\n",
      "  66 309 412  22  53 616 756  17 209 394 422  51  50 420 135 234 225   7\n",
      " 199 728 219 311 415 218 782 587 285 142 474 128 107  13  40 458  61 202\n",
      " 206 529 651 137 205 411 557 236 396 132 828  36 226 455 561 535 478  59\n",
      " 589 249 243 228 386 320  56 165  41  52  32  28 792 382 114 378   1  27\n",
      "  19 290 242  44 283 220 493 109 279  49  76 558 687  46 384 536 530  29\n",
      " 214 217 430 431 648 492 543 399 749 528 407 550 381  30 426 456  62 387\n",
      " 555 460 454 452 579 532  10 760 690 404 409   4 377 479 385 871  38 417\n",
      " 486 769 489 495 503 313 233 379 592 440 531 397 395 410 388 445   3 771\n",
      " 428 403 477 717 449 383 515 390 405 854 450 432 393 551 475  34  60  20\n",
      " 541 683 421  33 442 514  45  54 435 376  31 775 686 761 544 655 594 465\n",
      "  72 490  68 433 670 776  25 562  24 667 436 524 826 434  26 553 784 808\n",
      " 466 444 578 850 375 437 674 831 838 511 425 804 398 414 480 504 467] int64 \n",
      "\n",
      "PREVIOUS\n",
      "[  0.   2.   1.  nan   3.   4.   6.  10.  14.   8.  13.   5.  12.   9.\n",
      "  11.  40.   7.  18.  41.  22.  37.  20.  19.  23.  17. 275.  27.  29.\n",
      "  25.  15.  16.  28.  30.  26.  21.  24.  58.  55.  35.  38.  32.] float64 \n",
      "\n",
      "POUTCOME\n",
      "['unknown' 'other' 'failure' 'success'] object \n",
      "\n",
      "Y\n",
      "['no' 'yes'] object \n",
      "\n"
     ]
    }
   ],
   "source": [
    "#Visualização de valores únicos para cada feature:\n",
    "for col in df.columns:\n",
    "  print(col.upper())\n",
    "  print(df[col].unique(), df[col].dtype, \"\\n\")"
   ]
  },
  {
   "cell_type": "markdown",
   "metadata": {},
   "source": [
    "<p> Nota-se que existem valores que se destacam pela descrepância, como 275 em \"previous\" e o 150 em \"age\"</p>"
   ]
  },
  {
   "cell_type": "markdown",
   "metadata": {},
   "source": [
    "<p> Vamos checar antes de tudo caso existam dados duplicados: </p>"
   ]
  },
  {
   "cell_type": "code",
   "execution_count": 36,
   "metadata": {},
   "outputs": [
    {
     "data": {
      "text/plain": [
       "0"
      ]
     },
     "execution_count": 36,
     "metadata": {},
     "output_type": "execute_result"
    }
   ],
   "source": [
    "df.duplicated(keep='first').sum()"
   ]
  },
  {
   "cell_type": "markdown",
   "metadata": {},
   "source": [
    "<p> Como não há nenhum dado duplicado podemos continuar. Caso existisse, teríamos de excluir as duplicatas </p>"
   ]
  },
  {
   "cell_type": "markdown",
   "metadata": {},
   "source": [
    "<p>Na saída acima, vemos a presença de dados \"unknown\". Neste projeto, consideramos \"unknown\" como dado faltante, pois este não representa de fato uma informação assim como um dado faltante.</p>"
   ]
  },
  {
   "cell_type": "code",
   "execution_count": 37,
   "metadata": {},
   "outputs": [],
   "source": [
    "#Substituição dos dados \"unknown\" por dado faltante:\n",
    "#df = df.replace(\"unknown\", np.nan)"
   ]
  },
  {
   "cell_type": "code",
   "execution_count": 38,
   "metadata": {},
   "outputs": [
    {
     "data": {
      "text/plain": [
       "age           1199\n",
       "job           1349\n",
       "marital         97\n",
       "education        0\n",
       "location     21502\n",
       "default          0\n",
       "balance       1792\n",
       "housing          0\n",
       "loan             0\n",
       "contact        734\n",
       "day              0\n",
       "month            0\n",
       "duration         0\n",
       "campaign      1397\n",
       "pdays            0\n",
       "previous       297\n",
       "poutcome         0\n",
       "y                0\n",
       "dtype: int64"
      ]
     },
     "execution_count": 38,
     "metadata": {},
     "output_type": "execute_result"
    }
   ],
   "source": [
    "#Visualização de dados faltantes em cada feature:\n",
    "df.isna().sum()"
   ]
  },
  {
   "cell_type": "markdown",
   "metadata": {},
   "source": [
    "<p>Rapidamente, observamos que há muitos dados faltantes nas features \"location\" e \"poutcome\". Essas duas colunas podem representar dados inutilizáveis. Antes de excluí-los, contudo, analisemos os seguintes dados com os seguintes gráficos a fim de identificar relações com a target.</p>"
   ]
  },
  {
   "cell_type": "code",
   "execution_count": 39,
   "metadata": {},
   "outputs": [
    {
     "data": {
      "image/png": "[encoded data removed]",
      "text/plain": [
       "<Figure size 1200x500 with 2 Axes>"
      ]
     },
     "metadata": {},
     "output_type": "display_data"
    }
   ],
   "source": [
    "#Apresentação do gráfico de barras com relação a localização:\n",
    "plt.figure(figsize = (12,5))\n",
    "plt.subplot(1,2,1)\n",
    "sns.countplot(data = df, x = \"location\")\n",
    "plt.subplot(1,2,2)\n",
    "sns.countplot(data = df, x = \"location\", hue = \"y\")\n",
    "plt.show()"
   ]
  },
  {
   "cell_type": "code",
   "execution_count": 40,
   "metadata": {},
   "outputs": [
    {
     "data": {
      "image/png": "[encoded data removed]",
      "text/plain": [
       "<Figure size 1200x500 with 2 Axes>"
      ]
     },
     "metadata": {},
     "output_type": "display_data"
    }
   ],
   "source": [
    "#Apresentação do gráfico de barras com relação ao poutcome:\n",
    "plt.figure(figsize = (12,5))\n",
    "plt.subplot(1,2,1)\n",
    "sns.countplot(data = df, x = \"poutcome\")\n",
    "plt.subplot(1,2,2)\n",
    "sns.countplot(data = df, x = \"poutcome\", hue = \"y\")\n",
    "plt.show()"
   ]
  },
  {
   "cell_type": "markdown",
   "metadata": {},
   "source": [
    "<p>Vejamos agora estes dados em porcentagem para ver se realmente apresentam relevância.</p>"
   ]
  },
  {
   "cell_type": "code",
   "execution_count": 41,
   "metadata": {},
   "outputs": [
    {
     "data": {
      "text/plain": [
       "<Figure size 809x500 with 0 Axes>"
      ]
     },
     "metadata": {},
     "output_type": "display_data"
    },
    {
     "data": {
      "image/png": "[encoded data removed]",
      "text/plain": [
       "<Figure size 640x480 with 1 Axes>"
      ]
     },
     "metadata": {},
     "output_type": "display_data"
    }
   ],
   "source": [
    "# Apresentação do gráfico percentil em barras da localização em relação ao y:\n",
    "plt.figure(figsize = (8.09,5))\n",
    "(df.groupby('location')['y'].value_counts(normalize=True)\n",
    "   .unstack('y').plot.bar(stacked=True)\n",
    ")\n",
    "plt.show()"
   ]
  },
  {
   "cell_type": "code",
   "execution_count": 42,
   "metadata": {},
   "outputs": [
    {
     "data": {
      "text/plain": [
       "<Figure size 809x500 with 0 Axes>"
      ]
     },
     "metadata": {},
     "output_type": "display_data"
    },
    {
     "data": {
      "image/png": "[encoded data removed]",
      "text/plain": [
       "<Figure size 640x480 with 1 Axes>"
      ]
     },
     "metadata": {},
     "output_type": "display_data"
    }
   ],
   "source": [
    "# Apresentação do gráfico percentil em barras da localização em relação ao y:\n",
    "plt.figure(figsize = (8.09,5))\n",
    "(df.groupby('poutcome')['y'].value_counts(normalize=True)\n",
    "   .unstack('y').plot.bar(stacked=True)\n",
    ")\n",
    "plt.show()"
   ]
  },
  {
   "cell_type": "markdown",
   "metadata": {},
   "source": [
    "<p>No caso da localização, temos que a variável target é independente da localização, pois os casos afirmativos, ou seja, \"y\" = yes não ultrapassam os 20%. No caso do Poutcome, por outro lado, nos deparamos com um problema: este apresenta um grande correlação com a target, o que é evidenciado pela disparidade entre os casos de sucesso da campanha anterior e os demais. Contudo, temos uma grande falta de dados para essa feature caso não considerarmos unknown. Por esse motivo manteremos os dados unknown por enquanto. </p>"
   ]
  },
  {
   "cell_type": "markdown",
   "metadata": {},
   "source": [
    "<h3> Remoção de dados fora de intervalo </h3>"
   ]
  },
  {
   "cell_type": "markdown",
   "metadata": {},
   "source": [
    "<p> faz parte de uma limpeza de dados remover aqueles cuja informação seria considerada impossível. Vamos observar, por exemplo, a feature \"idade\":</p>"
   ]
  },
  {
   "cell_type": "code",
   "execution_count": 43,
   "metadata": {},
   "outputs": [
    {
     "name": "stderr",
     "output_type": "stream",
     "text": [
      "c:\\Users\\Usuario\\anaconda3\\Lib\\site-packages\\seaborn\\_oldcore.py:1119: FutureWarning: use_inf_as_na option is deprecated and will be removed in a future version. Convert inf values to NaN before operating instead.\n",
      "  with pd.option_context('mode.use_inf_as_na', True):\n"
     ]
    },
    {
     "data": {
      "text/plain": [
       "<Axes: ylabel='age'>"
      ]
     },
     "execution_count": 43,
     "metadata": {},
     "output_type": "execute_result"
    },
    {
     "data": {
      "image/png": "[encoded data removed]",
      "text/plain": [
       "<Figure size 1200x500 with 2 Axes>"
      ]
     },
     "metadata": {},
     "output_type": "display_data"
    }
   ],
   "source": [
    "plt.figure(figsize = (12,5))\n",
    "plt.subplot(1,2,1)\n",
    "sns.histplot(data = df, x = \"age\")\n",
    "plt.subplot(1,2,2)\n",
    "sns.boxplot(data = df, y = 'age')"
   ]
  },
  {
   "cell_type": "markdown",
   "metadata": {},
   "source": [
    "<p> É visível que em alguns dos dados a idade é dita como maior que 140, o que é um absurdo. Esses valores, portanto, são considerados fora do intervalo de idade aceitável. podemos deletar esses valores por enquanto. </p>"
   ]
  },
  {
   "cell_type": "code",
   "execution_count": 44,
   "metadata": {},
   "outputs": [
    {
     "data": {
      "text/html": [
       "<div>\n",
       "<style scoped>\n",
       "    .dataframe tbody tr th:only-of-type {\n",
       "        vertical-align: middle;\n",
       "    }\n",
       "\n",
       "    .dataframe tbody tr th {\n",
       "        vertical-align: top;\n",
       "    }\n",
       "\n",
       "    .dataframe thead th {\n",
       "        text-align: right;\n",
       "    }\n",
       "</style>\n",
       "<table border=\"1\" class=\"dataframe\">\n",
       "  <thead>\n",
       "    <tr style=\"text-align: right;\">\n",
       "      <th></th>\n",
       "      <th>age</th>\n",
       "      <th>job</th>\n",
       "      <th>marital</th>\n",
       "      <th>education</th>\n",
       "      <th>location</th>\n",
       "      <th>default</th>\n",
       "      <th>balance</th>\n",
       "      <th>housing</th>\n",
       "      <th>loan</th>\n",
       "      <th>contact</th>\n",
       "      <th>day</th>\n",
       "      <th>month</th>\n",
       "      <th>duration</th>\n",
       "      <th>campaign</th>\n",
       "      <th>pdays</th>\n",
       "      <th>previous</th>\n",
       "      <th>poutcome</th>\n",
       "      <th>y</th>\n",
       "    </tr>\n",
       "  </thead>\n",
       "  <tbody>\n",
       "    <tr>\n",
       "      <th>1471</th>\n",
       "      <td>150.0</td>\n",
       "      <td>services</td>\n",
       "      <td>single</td>\n",
       "      <td>secondary</td>\n",
       "      <td>NaN</td>\n",
       "      <td>no</td>\n",
       "      <td>150.0</td>\n",
       "      <td>no</td>\n",
       "      <td>no</td>\n",
       "      <td>cellular</td>\n",
       "      <td>13</td>\n",
       "      <td>apr</td>\n",
       "      <td>75000</td>\n",
       "      <td>3.0</td>\n",
       "      <td>-1</td>\n",
       "      <td>0.0</td>\n",
       "      <td>unknown</td>\n",
       "      <td>no</td>\n",
       "    </tr>\n",
       "    <tr>\n",
       "      <th>4760</th>\n",
       "      <td>150.0</td>\n",
       "      <td>management</td>\n",
       "      <td>single</td>\n",
       "      <td>tertiary</td>\n",
       "      <td>Lisboa</td>\n",
       "      <td>no</td>\n",
       "      <td>1351.0</td>\n",
       "      <td>no</td>\n",
       "      <td>n</td>\n",
       "      <td>cellular</td>\n",
       "      <td>11</td>\n",
       "      <td>mar</td>\n",
       "      <td>228</td>\n",
       "      <td>1.0</td>\n",
       "      <td>91</td>\n",
       "      <td>1.0</td>\n",
       "      <td>failure</td>\n",
       "      <td>no</td>\n",
       "    </tr>\n",
       "    <tr>\n",
       "      <th>4899</th>\n",
       "      <td>150.0</td>\n",
       "      <td>technician</td>\n",
       "      <td>married</td>\n",
       "      <td>secondary</td>\n",
       "      <td>NaN</td>\n",
       "      <td>no</td>\n",
       "      <td>7696.0</td>\n",
       "      <td>yes</td>\n",
       "      <td>no</td>\n",
       "      <td>cellular</td>\n",
       "      <td>20</td>\n",
       "      <td>nov</td>\n",
       "      <td>386</td>\n",
       "      <td>2.0</td>\n",
       "      <td>-1</td>\n",
       "      <td>0.0</td>\n",
       "      <td>unknown</td>\n",
       "      <td>no</td>\n",
       "    </tr>\n",
       "    <tr>\n",
       "      <th>6237</th>\n",
       "      <td>150.0</td>\n",
       "      <td>admin.</td>\n",
       "      <td>divorced</td>\n",
       "      <td>secondary</td>\n",
       "      <td>NaN</td>\n",
       "      <td>no</td>\n",
       "      <td>454.0</td>\n",
       "      <td>yes</td>\n",
       "      <td>n</td>\n",
       "      <td>cellular</td>\n",
       "      <td>18</td>\n",
       "      <td>nov</td>\n",
       "      <td>165</td>\n",
       "      <td>1.0</td>\n",
       "      <td>131</td>\n",
       "      <td>1.0</td>\n",
       "      <td>failure</td>\n",
       "      <td>no</td>\n",
       "    </tr>\n",
       "    <tr>\n",
       "      <th>11310</th>\n",
       "      <td>150.0</td>\n",
       "      <td>services</td>\n",
       "      <td>single</td>\n",
       "      <td>secondary</td>\n",
       "      <td>NaN</td>\n",
       "      <td>no</td>\n",
       "      <td>1239.0</td>\n",
       "      <td>yes</td>\n",
       "      <td>n</td>\n",
       "      <td>cellular</td>\n",
       "      <td>5</td>\n",
       "      <td>may</td>\n",
       "      <td>60</td>\n",
       "      <td>NaN</td>\n",
       "      <td>347</td>\n",
       "      <td>1.0</td>\n",
       "      <td>failure</td>\n",
       "      <td>no</td>\n",
       "    </tr>\n",
       "    <tr>\n",
       "      <th>11452</th>\n",
       "      <td>150.0</td>\n",
       "      <td>blue-collar</td>\n",
       "      <td>married</td>\n",
       "      <td>primary</td>\n",
       "      <td>NaN</td>\n",
       "      <td>no</td>\n",
       "      <td>3109.0</td>\n",
       "      <td>no</td>\n",
       "      <td>no</td>\n",
       "      <td>cellular</td>\n",
       "      <td>29</td>\n",
       "      <td>jun</td>\n",
       "      <td>295</td>\n",
       "      <td>1.0</td>\n",
       "      <td>287</td>\n",
       "      <td>4.0</td>\n",
       "      <td>success</td>\n",
       "      <td>yes</td>\n",
       "    </tr>\n",
       "    <tr>\n",
       "      <th>14372</th>\n",
       "      <td>150.0</td>\n",
       "      <td>blue-collar</td>\n",
       "      <td>married</td>\n",
       "      <td>primary</td>\n",
       "      <td>Lisboa</td>\n",
       "      <td>no</td>\n",
       "      <td>3370.0</td>\n",
       "      <td>yes</td>\n",
       "      <td>no</td>\n",
       "      <td>cellular</td>\n",
       "      <td>20</td>\n",
       "      <td>nov</td>\n",
       "      <td>156</td>\n",
       "      <td>4.0</td>\n",
       "      <td>-1</td>\n",
       "      <td>0.0</td>\n",
       "      <td>unknown</td>\n",
       "      <td>no</td>\n",
       "    </tr>\n",
       "    <tr>\n",
       "      <th>14571</th>\n",
       "      <td>150.0</td>\n",
       "      <td>blue-collar</td>\n",
       "      <td>married</td>\n",
       "      <td>secondary</td>\n",
       "      <td>NaN</td>\n",
       "      <td>no</td>\n",
       "      <td>NaN</td>\n",
       "      <td>yes</td>\n",
       "      <td>no</td>\n",
       "      <td>telephone</td>\n",
       "      <td>17</td>\n",
       "      <td>oct</td>\n",
       "      <td>24</td>\n",
       "      <td>1.0</td>\n",
       "      <td>-1</td>\n",
       "      <td>0.0</td>\n",
       "      <td>unknown</td>\n",
       "      <td>no</td>\n",
       "    </tr>\n",
       "    <tr>\n",
       "      <th>15221</th>\n",
       "      <td>150.0</td>\n",
       "      <td>unemployed</td>\n",
       "      <td>married</td>\n",
       "      <td>tertiary</td>\n",
       "      <td>Lisboa</td>\n",
       "      <td>no</td>\n",
       "      <td>259.0</td>\n",
       "      <td>no</td>\n",
       "      <td>yes</td>\n",
       "      <td>cellular</td>\n",
       "      <td>21</td>\n",
       "      <td>nov</td>\n",
       "      <td>229</td>\n",
       "      <td>2.0</td>\n",
       "      <td>-1</td>\n",
       "      <td>0.0</td>\n",
       "      <td>unknown</td>\n",
       "      <td>no</td>\n",
       "    </tr>\n",
       "    <tr>\n",
       "      <th>15299</th>\n",
       "      <td>150.0</td>\n",
       "      <td>management</td>\n",
       "      <td>married</td>\n",
       "      <td>tertiary</td>\n",
       "      <td>NaN</td>\n",
       "      <td>no</td>\n",
       "      <td>9.0</td>\n",
       "      <td>yes</td>\n",
       "      <td>n</td>\n",
       "      <td>cellular</td>\n",
       "      <td>22</td>\n",
       "      <td>jul</td>\n",
       "      <td>82</td>\n",
       "      <td>3.0</td>\n",
       "      <td>-1</td>\n",
       "      <td>0.0</td>\n",
       "      <td>unknown</td>\n",
       "      <td>no</td>\n",
       "    </tr>\n",
       "    <tr>\n",
       "      <th>15967</th>\n",
       "      <td>150.0</td>\n",
       "      <td>management</td>\n",
       "      <td>single</td>\n",
       "      <td>tertiary</td>\n",
       "      <td>NaN</td>\n",
       "      <td>no</td>\n",
       "      <td>178.0</td>\n",
       "      <td>yes</td>\n",
       "      <td>no</td>\n",
       "      <td>cellular</td>\n",
       "      <td>15</td>\n",
       "      <td>may</td>\n",
       "      <td>14</td>\n",
       "      <td>2.0</td>\n",
       "      <td>-1</td>\n",
       "      <td>0.0</td>\n",
       "      <td>unknown</td>\n",
       "      <td>no</td>\n",
       "    </tr>\n",
       "    <tr>\n",
       "      <th>23255</th>\n",
       "      <td>150.0</td>\n",
       "      <td>management</td>\n",
       "      <td>divorced</td>\n",
       "      <td>secondary</td>\n",
       "      <td>NaN</td>\n",
       "      <td>no</td>\n",
       "      <td>1598.0</td>\n",
       "      <td>yes</td>\n",
       "      <td>no</td>\n",
       "      <td>unknown</td>\n",
       "      <td>29</td>\n",
       "      <td>may</td>\n",
       "      <td>84</td>\n",
       "      <td>1.0</td>\n",
       "      <td>-1</td>\n",
       "      <td>0.0</td>\n",
       "      <td>unknown</td>\n",
       "      <td>no</td>\n",
       "    </tr>\n",
       "    <tr>\n",
       "      <th>25652</th>\n",
       "      <td>150.0</td>\n",
       "      <td>retired</td>\n",
       "      <td>married</td>\n",
       "      <td>secondary</td>\n",
       "      <td>NaN</td>\n",
       "      <td>no</td>\n",
       "      <td>3189.0</td>\n",
       "      <td>no</td>\n",
       "      <td>no</td>\n",
       "      <td>telephone</td>\n",
       "      <td>15</td>\n",
       "      <td>jun</td>\n",
       "      <td>208</td>\n",
       "      <td>1.0</td>\n",
       "      <td>-1</td>\n",
       "      <td>0.0</td>\n",
       "      <td>unknown</td>\n",
       "      <td>yes</td>\n",
       "    </tr>\n",
       "    <tr>\n",
       "      <th>27831</th>\n",
       "      <td>150.0</td>\n",
       "      <td>admin.</td>\n",
       "      <td>married</td>\n",
       "      <td>tertiary</td>\n",
       "      <td>Amadora</td>\n",
       "      <td>no</td>\n",
       "      <td>279.0</td>\n",
       "      <td>yes</td>\n",
       "      <td>no</td>\n",
       "      <td>cellular</td>\n",
       "      <td>30</td>\n",
       "      <td>apr</td>\n",
       "      <td>155</td>\n",
       "      <td>1.0</td>\n",
       "      <td>164</td>\n",
       "      <td>1.0</td>\n",
       "      <td>failure</td>\n",
       "      <td>no</td>\n",
       "    </tr>\n",
       "    <tr>\n",
       "      <th>27963</th>\n",
       "      <td>150.0</td>\n",
       "      <td>management</td>\n",
       "      <td>married</td>\n",
       "      <td>tertiary</td>\n",
       "      <td>Porto</td>\n",
       "      <td>no</td>\n",
       "      <td>5956.0</td>\n",
       "      <td>no</td>\n",
       "      <td>no</td>\n",
       "      <td>cellular</td>\n",
       "      <td>3</td>\n",
       "      <td>feb</td>\n",
       "      <td>541</td>\n",
       "      <td>1.0</td>\n",
       "      <td>-1</td>\n",
       "      <td>0.0</td>\n",
       "      <td>unknown</td>\n",
       "      <td>no</td>\n",
       "    </tr>\n",
       "    <tr>\n",
       "      <th>28430</th>\n",
       "      <td>150.0</td>\n",
       "      <td>technician</td>\n",
       "      <td>single</td>\n",
       "      <td>tertiary</td>\n",
       "      <td>NaN</td>\n",
       "      <td>no</td>\n",
       "      <td>640.0</td>\n",
       "      <td>yes</td>\n",
       "      <td>no</td>\n",
       "      <td>unknown</td>\n",
       "      <td>13</td>\n",
       "      <td>may</td>\n",
       "      <td>492</td>\n",
       "      <td>2.0</td>\n",
       "      <td>-1</td>\n",
       "      <td>0.0</td>\n",
       "      <td>unknown</td>\n",
       "      <td>no</td>\n",
       "    </tr>\n",
       "    <tr>\n",
       "      <th>30490</th>\n",
       "      <td>150.0</td>\n",
       "      <td>NaN</td>\n",
       "      <td>married</td>\n",
       "      <td>tertiary</td>\n",
       "      <td>NaN</td>\n",
       "      <td>no</td>\n",
       "      <td>450.0</td>\n",
       "      <td>yes</td>\n",
       "      <td>y</td>\n",
       "      <td>unknown</td>\n",
       "      <td>12</td>\n",
       "      <td>may</td>\n",
       "      <td>1266</td>\n",
       "      <td>1.0</td>\n",
       "      <td>-1</td>\n",
       "      <td>0.0</td>\n",
       "      <td>unknown</td>\n",
       "      <td>no</td>\n",
       "    </tr>\n",
       "    <tr>\n",
       "      <th>31015</th>\n",
       "      <td>150.0</td>\n",
       "      <td>entrepreneur</td>\n",
       "      <td>married</td>\n",
       "      <td>tertiary</td>\n",
       "      <td>Porto</td>\n",
       "      <td>no</td>\n",
       "      <td>958.0</td>\n",
       "      <td>no</td>\n",
       "      <td>no</td>\n",
       "      <td>unknown</td>\n",
       "      <td>6</td>\n",
       "      <td>jun</td>\n",
       "      <td>250</td>\n",
       "      <td>2.0</td>\n",
       "      <td>-1</td>\n",
       "      <td>0.0</td>\n",
       "      <td>unknown</td>\n",
       "      <td>no</td>\n",
       "    </tr>\n",
       "    <tr>\n",
       "      <th>31811</th>\n",
       "      <td>150.0</td>\n",
       "      <td>technician</td>\n",
       "      <td>married</td>\n",
       "      <td>secondary</td>\n",
       "      <td>NaN</td>\n",
       "      <td>no</td>\n",
       "      <td>0.0</td>\n",
       "      <td>no</td>\n",
       "      <td>no</td>\n",
       "      <td>cellular</td>\n",
       "      <td>1</td>\n",
       "      <td>apr</td>\n",
       "      <td>295</td>\n",
       "      <td>1.0</td>\n",
       "      <td>303</td>\n",
       "      <td>1.0</td>\n",
       "      <td>other</td>\n",
       "      <td>no</td>\n",
       "    </tr>\n",
       "    <tr>\n",
       "      <th>32357</th>\n",
       "      <td>150.0</td>\n",
       "      <td>blue-collar</td>\n",
       "      <td>single</td>\n",
       "      <td>primary</td>\n",
       "      <td>Porto</td>\n",
       "      <td>no</td>\n",
       "      <td>7.0</td>\n",
       "      <td>yes</td>\n",
       "      <td>n</td>\n",
       "      <td>cellular</td>\n",
       "      <td>13</td>\n",
       "      <td>may</td>\n",
       "      <td>109</td>\n",
       "      <td>1.0</td>\n",
       "      <td>-1</td>\n",
       "      <td>0.0</td>\n",
       "      <td>unknown</td>\n",
       "      <td>no</td>\n",
       "    </tr>\n",
       "    <tr>\n",
       "      <th>35117</th>\n",
       "      <td>150.0</td>\n",
       "      <td>admin.</td>\n",
       "      <td>single</td>\n",
       "      <td>secondary</td>\n",
       "      <td>Amadora</td>\n",
       "      <td>no</td>\n",
       "      <td>2130.0</td>\n",
       "      <td>yes</td>\n",
       "      <td>n</td>\n",
       "      <td>telephone</td>\n",
       "      <td>28</td>\n",
       "      <td>jul</td>\n",
       "      <td>126</td>\n",
       "      <td>8.0</td>\n",
       "      <td>-1</td>\n",
       "      <td>0.0</td>\n",
       "      <td>unknown</td>\n",
       "      <td>no</td>\n",
       "    </tr>\n",
       "    <tr>\n",
       "      <th>35287</th>\n",
       "      <td>150.0</td>\n",
       "      <td>technician</td>\n",
       "      <td>divorced</td>\n",
       "      <td>secondary</td>\n",
       "      <td>Amadora</td>\n",
       "      <td>no</td>\n",
       "      <td>4.0</td>\n",
       "      <td>yes</td>\n",
       "      <td>n</td>\n",
       "      <td>unknown</td>\n",
       "      <td>20</td>\n",
       "      <td>may</td>\n",
       "      <td>270</td>\n",
       "      <td>1.0</td>\n",
       "      <td>-1</td>\n",
       "      <td>0.0</td>\n",
       "      <td>unknown</td>\n",
       "      <td>no</td>\n",
       "    </tr>\n",
       "    <tr>\n",
       "      <th>36619</th>\n",
       "      <td>150.0</td>\n",
       "      <td>retired</td>\n",
       "      <td>married</td>\n",
       "      <td>tertiary</td>\n",
       "      <td>NaN</td>\n",
       "      <td>no</td>\n",
       "      <td>1948.0</td>\n",
       "      <td>no</td>\n",
       "      <td>no</td>\n",
       "      <td>cellular</td>\n",
       "      <td>28</td>\n",
       "      <td>jan</td>\n",
       "      <td>216</td>\n",
       "      <td>1.0</td>\n",
       "      <td>91</td>\n",
       "      <td>4.0</td>\n",
       "      <td>success</td>\n",
       "      <td>yes</td>\n",
       "    </tr>\n",
       "    <tr>\n",
       "      <th>37122</th>\n",
       "      <td>150.0</td>\n",
       "      <td>management</td>\n",
       "      <td>married</td>\n",
       "      <td>secondary</td>\n",
       "      <td>NaN</td>\n",
       "      <td>no</td>\n",
       "      <td>1161.0</td>\n",
       "      <td>yes</td>\n",
       "      <td>n</td>\n",
       "      <td>unknown</td>\n",
       "      <td>5</td>\n",
       "      <td>may</td>\n",
       "      <td>717</td>\n",
       "      <td>1.0</td>\n",
       "      <td>-1</td>\n",
       "      <td>0.0</td>\n",
       "      <td>unknown</td>\n",
       "      <td>no</td>\n",
       "    </tr>\n",
       "    <tr>\n",
       "      <th>37915</th>\n",
       "      <td>150.0</td>\n",
       "      <td>retired</td>\n",
       "      <td>divorced</td>\n",
       "      <td>secondary</td>\n",
       "      <td>NaN</td>\n",
       "      <td>yes</td>\n",
       "      <td>-200.0</td>\n",
       "      <td>no</td>\n",
       "      <td>yes</td>\n",
       "      <td>cellular</td>\n",
       "      <td>4</td>\n",
       "      <td>feb</td>\n",
       "      <td>71</td>\n",
       "      <td>1.0</td>\n",
       "      <td>243</td>\n",
       "      <td>1.0</td>\n",
       "      <td>failure</td>\n",
       "      <td>no</td>\n",
       "    </tr>\n",
       "    <tr>\n",
       "      <th>38239</th>\n",
       "      <td>150.0</td>\n",
       "      <td>management</td>\n",
       "      <td>married</td>\n",
       "      <td>tertiary</td>\n",
       "      <td>Porto</td>\n",
       "      <td>no</td>\n",
       "      <td>54.0</td>\n",
       "      <td>yes</td>\n",
       "      <td>no</td>\n",
       "      <td>telephone</td>\n",
       "      <td>13</td>\n",
       "      <td>may</td>\n",
       "      <td>107</td>\n",
       "      <td>3.0</td>\n",
       "      <td>-1</td>\n",
       "      <td>0.0</td>\n",
       "      <td>unknown</td>\n",
       "      <td>no</td>\n",
       "    </tr>\n",
       "    <tr>\n",
       "      <th>38746</th>\n",
       "      <td>150.0</td>\n",
       "      <td>technician</td>\n",
       "      <td>married</td>\n",
       "      <td>secondary</td>\n",
       "      <td>NaN</td>\n",
       "      <td>no</td>\n",
       "      <td>2480.0</td>\n",
       "      <td>no</td>\n",
       "      <td>no</td>\n",
       "      <td>cellular</td>\n",
       "      <td>6</td>\n",
       "      <td>aug</td>\n",
       "      <td>763</td>\n",
       "      <td>2.0</td>\n",
       "      <td>-1</td>\n",
       "      <td>0.0</td>\n",
       "      <td>unknown</td>\n",
       "      <td>yes</td>\n",
       "    </tr>\n",
       "  </tbody>\n",
       "</table>\n",
       "</div>"
      ],
      "text/plain": [
       "         age           job   marital  education location default  balance  \\\n",
       "1471   150.0      services    single  secondary      NaN      no    150.0   \n",
       "4760   150.0    management    single   tertiary   Lisboa      no   1351.0   \n",
       "4899   150.0    technician   married  secondary      NaN      no   7696.0   \n",
       "6237   150.0        admin.  divorced  secondary      NaN      no    454.0   \n",
       "11310  150.0      services    single  secondary      NaN      no   1239.0   \n",
       "11452  150.0   blue-collar   married    primary      NaN      no   3109.0   \n",
       "14372  150.0   blue-collar   married    primary   Lisboa      no   3370.0   \n",
       "14571  150.0   blue-collar   married  secondary      NaN      no      NaN   \n",
       "15221  150.0    unemployed   married   tertiary   Lisboa      no    259.0   \n",
       "15299  150.0    management   married   tertiary      NaN      no      9.0   \n",
       "15967  150.0    management    single   tertiary      NaN      no    178.0   \n",
       "23255  150.0    management  divorced  secondary      NaN      no   1598.0   \n",
       "25652  150.0       retired   married  secondary      NaN      no   3189.0   \n",
       "27831  150.0        admin.   married   tertiary  Amadora      no    279.0   \n",
       "27963  150.0    management   married   tertiary    Porto      no   5956.0   \n",
       "28430  150.0    technician    single   tertiary      NaN      no    640.0   \n",
       "30490  150.0           NaN   married   tertiary      NaN      no    450.0   \n",
       "31015  150.0  entrepreneur   married   tertiary    Porto      no    958.0   \n",
       "31811  150.0    technician   married  secondary      NaN      no      0.0   \n",
       "32357  150.0   blue-collar    single    primary    Porto      no      7.0   \n",
       "35117  150.0        admin.    single  secondary  Amadora      no   2130.0   \n",
       "35287  150.0    technician  divorced  secondary  Amadora      no      4.0   \n",
       "36619  150.0       retired   married   tertiary      NaN      no   1948.0   \n",
       "37122  150.0    management   married  secondary      NaN      no   1161.0   \n",
       "37915  150.0       retired  divorced  secondary      NaN     yes   -200.0   \n",
       "38239  150.0    management   married   tertiary    Porto      no     54.0   \n",
       "38746  150.0    technician   married  secondary      NaN      no   2480.0   \n",
       "\n",
       "      housing loan    contact  day month  duration  campaign  pdays  previous  \\\n",
       "1471       no   no   cellular   13   apr     75000       3.0     -1       0.0   \n",
       "4760       no    n   cellular   11   mar       228       1.0     91       1.0   \n",
       "4899      yes   no   cellular   20   nov       386       2.0     -1       0.0   \n",
       "6237      yes    n   cellular   18   nov       165       1.0    131       1.0   \n",
       "11310     yes    n   cellular    5   may        60       NaN    347       1.0   \n",
       "11452      no   no   cellular   29   jun       295       1.0    287       4.0   \n",
       "14372     yes   no   cellular   20   nov       156       4.0     -1       0.0   \n",
       "14571     yes   no  telephone   17   oct        24       1.0     -1       0.0   \n",
       "15221      no  yes   cellular   21   nov       229       2.0     -1       0.0   \n",
       "15299     yes    n   cellular   22   jul        82       3.0     -1       0.0   \n",
       "15967     yes   no   cellular   15   may        14       2.0     -1       0.0   \n",
       "23255     yes   no    unknown   29   may        84       1.0     -1       0.0   \n",
       "25652      no   no  telephone   15   jun       208       1.0     -1       0.0   \n",
       "27831     yes   no   cellular   30   apr       155       1.0    164       1.0   \n",
       "27963      no   no   cellular    3   feb       541       1.0     -1       0.0   \n",
       "28430     yes   no    unknown   13   may       492       2.0     -1       0.0   \n",
       "30490     yes    y    unknown   12   may      1266       1.0     -1       0.0   \n",
       "31015      no   no    unknown    6   jun       250       2.0     -1       0.0   \n",
       "31811      no   no   cellular    1   apr       295       1.0    303       1.0   \n",
       "32357     yes    n   cellular   13   may       109       1.0     -1       0.0   \n",
       "35117     yes    n  telephone   28   jul       126       8.0     -1       0.0   \n",
       "35287     yes    n    unknown   20   may       270       1.0     -1       0.0   \n",
       "36619      no   no   cellular   28   jan       216       1.0     91       4.0   \n",
       "37122     yes    n    unknown    5   may       717       1.0     -1       0.0   \n",
       "37915      no  yes   cellular    4   feb        71       1.0    243       1.0   \n",
       "38239     yes   no  telephone   13   may       107       3.0     -1       0.0   \n",
       "38746      no   no   cellular    6   aug       763       2.0     -1       0.0   \n",
       "\n",
       "      poutcome    y  \n",
       "1471   unknown   no  \n",
       "4760   failure   no  \n",
       "4899   unknown   no  \n",
       "6237   failure   no  \n",
       "11310  failure   no  \n",
       "11452  success  yes  \n",
       "14372  unknown   no  \n",
       "14571  unknown   no  \n",
       "15221  unknown   no  \n",
       "15299  unknown   no  \n",
       "15967  unknown   no  \n",
       "23255  unknown   no  \n",
       "25652  unknown  yes  \n",
       "27831  failure   no  \n",
       "27963  unknown   no  \n",
       "28430  unknown   no  \n",
       "30490  unknown   no  \n",
       "31015  unknown   no  \n",
       "31811    other   no  \n",
       "32357  unknown   no  \n",
       "35117  unknown   no  \n",
       "35287  unknown   no  \n",
       "36619  success  yes  \n",
       "37122  unknown   no  \n",
       "37915  failure   no  \n",
       "38239  unknown   no  \n",
       "38746  unknown  yes  "
      ]
     },
     "execution_count": 44,
     "metadata": {},
     "output_type": "execute_result"
    }
   ],
   "source": [
    "df_overage = df[df['age']>140] #criando un dataframe apenas com pessoas cuja idade é maior que 140\n",
    "df_overage"
   ]
  },
  {
   "cell_type": "markdown",
   "metadata": {},
   "source": [
    "<p>É possível observar que todas as idades maiores que 140 possuem o mesmo valor: 150. Isso deve ter ocorrido devido a algum erro durante a coleta dos dados. Vamos apagá-los por enquanto. </p>"
   ]
  },
  {
   "cell_type": "code",
   "execution_count": 45,
   "metadata": {},
   "outputs": [],
   "source": [
    "df['age'] = df['age'].replace({150: np.nan})"
   ]
  },
  {
   "cell_type": "markdown",
   "metadata": {},
   "source": [
    "<p> Agora vamos checar, como fazem suspeitar o gráfico de barras e o boxplot, se existem idades menores que 18 anos, tais que se classificariam como fora do intervalo aceitável:"
   ]
  },
  {
   "cell_type": "code",
   "execution_count": 46,
   "metadata": {},
   "outputs": [
    {
     "data": {
      "text/html": [
       "<div>\n",
       "<style scoped>\n",
       "    .dataframe tbody tr th:only-of-type {\n",
       "        vertical-align: middle;\n",
       "    }\n",
       "\n",
       "    .dataframe tbody tr th {\n",
       "        vertical-align: top;\n",
       "    }\n",
       "\n",
       "    .dataframe thead th {\n",
       "        text-align: right;\n",
       "    }\n",
       "</style>\n",
       "<table border=\"1\" class=\"dataframe\">\n",
       "  <thead>\n",
       "    <tr style=\"text-align: right;\">\n",
       "      <th></th>\n",
       "      <th>age</th>\n",
       "      <th>job</th>\n",
       "      <th>marital</th>\n",
       "      <th>education</th>\n",
       "      <th>location</th>\n",
       "      <th>default</th>\n",
       "      <th>balance</th>\n",
       "      <th>housing</th>\n",
       "      <th>loan</th>\n",
       "      <th>contact</th>\n",
       "      <th>day</th>\n",
       "      <th>month</th>\n",
       "      <th>duration</th>\n",
       "      <th>campaign</th>\n",
       "      <th>pdays</th>\n",
       "      <th>previous</th>\n",
       "      <th>poutcome</th>\n",
       "      <th>y</th>\n",
       "    </tr>\n",
       "  </thead>\n",
       "  <tbody>\n",
       "    <tr>\n",
       "      <th>1384</th>\n",
       "      <td>8.0</td>\n",
       "      <td>blue-collar</td>\n",
       "      <td>divorced</td>\n",
       "      <td>primary</td>\n",
       "      <td>NaN</td>\n",
       "      <td>no</td>\n",
       "      <td>21.0</td>\n",
       "      <td>yes</td>\n",
       "      <td>no</td>\n",
       "      <td>cellular</td>\n",
       "      <td>4</td>\n",
       "      <td>feb</td>\n",
       "      <td>166</td>\n",
       "      <td>2.0</td>\n",
       "      <td>-1</td>\n",
       "      <td>0.0</td>\n",
       "      <td>unknown</td>\n",
       "      <td>no</td>\n",
       "    </tr>\n",
       "    <tr>\n",
       "      <th>4849</th>\n",
       "      <td>8.0</td>\n",
       "      <td>technician</td>\n",
       "      <td>single</td>\n",
       "      <td>tertiary</td>\n",
       "      <td>Lisboa</td>\n",
       "      <td>no</td>\n",
       "      <td>0.0</td>\n",
       "      <td>yes</td>\n",
       "      <td>no</td>\n",
       "      <td>unknown</td>\n",
       "      <td>7</td>\n",
       "      <td>may</td>\n",
       "      <td>104</td>\n",
       "      <td>2.0</td>\n",
       "      <td>-1</td>\n",
       "      <td>0.0</td>\n",
       "      <td>unknown</td>\n",
       "      <td>no</td>\n",
       "    </tr>\n",
       "    <tr>\n",
       "      <th>5335</th>\n",
       "      <td>8.0</td>\n",
       "      <td>management</td>\n",
       "      <td>single</td>\n",
       "      <td>tertiary</td>\n",
       "      <td>Porto</td>\n",
       "      <td>no</td>\n",
       "      <td>334.0</td>\n",
       "      <td>no</td>\n",
       "      <td>no</td>\n",
       "      <td>cellular</td>\n",
       "      <td>14</td>\n",
       "      <td>aug</td>\n",
       "      <td>144</td>\n",
       "      <td>2.0</td>\n",
       "      <td>-1</td>\n",
       "      <td>0.0</td>\n",
       "      <td>unknown</td>\n",
       "      <td>no</td>\n",
       "    </tr>\n",
       "    <tr>\n",
       "      <th>6662</th>\n",
       "      <td>8.0</td>\n",
       "      <td>technician</td>\n",
       "      <td>single</td>\n",
       "      <td>tertiary</td>\n",
       "      <td>NaN</td>\n",
       "      <td>no</td>\n",
       "      <td>411.0</td>\n",
       "      <td>no</td>\n",
       "      <td>n</td>\n",
       "      <td>cellular</td>\n",
       "      <td>22</td>\n",
       "      <td>oct</td>\n",
       "      <td>127</td>\n",
       "      <td>3.0</td>\n",
       "      <td>149</td>\n",
       "      <td>2.0</td>\n",
       "      <td>failure</td>\n",
       "      <td>yes</td>\n",
       "    </tr>\n",
       "    <tr>\n",
       "      <th>7207</th>\n",
       "      <td>8.0</td>\n",
       "      <td>housemaid</td>\n",
       "      <td>married</td>\n",
       "      <td>primary</td>\n",
       "      <td>NaN</td>\n",
       "      <td>no</td>\n",
       "      <td>994.0</td>\n",
       "      <td>no</td>\n",
       "      <td>yes</td>\n",
       "      <td>cellular</td>\n",
       "      <td>28</td>\n",
       "      <td>jul</td>\n",
       "      <td>1339</td>\n",
       "      <td>3.0</td>\n",
       "      <td>-1</td>\n",
       "      <td>0.0</td>\n",
       "      <td>unknown</td>\n",
       "      <td>no</td>\n",
       "    </tr>\n",
       "    <tr>\n",
       "      <th>8198</th>\n",
       "      <td>8.0</td>\n",
       "      <td>management</td>\n",
       "      <td>divorced</td>\n",
       "      <td>tertiary</td>\n",
       "      <td>NaN</td>\n",
       "      <td>no</td>\n",
       "      <td>224.0</td>\n",
       "      <td>yes</td>\n",
       "      <td>no</td>\n",
       "      <td>cellular</td>\n",
       "      <td>5</td>\n",
       "      <td>may</td>\n",
       "      <td>106</td>\n",
       "      <td>1.0</td>\n",
       "      <td>-1</td>\n",
       "      <td>0.0</td>\n",
       "      <td>unknown</td>\n",
       "      <td>no</td>\n",
       "    </tr>\n",
       "    <tr>\n",
       "      <th>9251</th>\n",
       "      <td>8.0</td>\n",
       "      <td>retired</td>\n",
       "      <td>married</td>\n",
       "      <td>secondary</td>\n",
       "      <td>NaN</td>\n",
       "      <td>no</td>\n",
       "      <td>289.0</td>\n",
       "      <td>no</td>\n",
       "      <td>no</td>\n",
       "      <td>cellular</td>\n",
       "      <td>10</td>\n",
       "      <td>jul</td>\n",
       "      <td>226</td>\n",
       "      <td>1.0</td>\n",
       "      <td>-1</td>\n",
       "      <td>0.0</td>\n",
       "      <td>unknown</td>\n",
       "      <td>no</td>\n",
       "    </tr>\n",
       "    <tr>\n",
       "      <th>9971</th>\n",
       "      <td>8.0</td>\n",
       "      <td>technician</td>\n",
       "      <td>married</td>\n",
       "      <td>tertiary</td>\n",
       "      <td>Porto</td>\n",
       "      <td>no</td>\n",
       "      <td>104.0</td>\n",
       "      <td>no</td>\n",
       "      <td>no</td>\n",
       "      <td>cellular</td>\n",
       "      <td>14</td>\n",
       "      <td>aug</td>\n",
       "      <td>244</td>\n",
       "      <td>2.0</td>\n",
       "      <td>-1</td>\n",
       "      <td>0.0</td>\n",
       "      <td>unknown</td>\n",
       "      <td>no</td>\n",
       "    </tr>\n",
       "    <tr>\n",
       "      <th>15781</th>\n",
       "      <td>8.0</td>\n",
       "      <td>technician</td>\n",
       "      <td>divorced</td>\n",
       "      <td>tertiary</td>\n",
       "      <td>Lisboa</td>\n",
       "      <td>no</td>\n",
       "      <td>568.0</td>\n",
       "      <td>yes</td>\n",
       "      <td>no</td>\n",
       "      <td>unknown</td>\n",
       "      <td>24</td>\n",
       "      <td>oct</td>\n",
       "      <td>112</td>\n",
       "      <td>1.0</td>\n",
       "      <td>-1</td>\n",
       "      <td>0.0</td>\n",
       "      <td>unknown</td>\n",
       "      <td>yes</td>\n",
       "    </tr>\n",
       "    <tr>\n",
       "      <th>16295</th>\n",
       "      <td>8.0</td>\n",
       "      <td>retired</td>\n",
       "      <td>married</td>\n",
       "      <td>tertiary</td>\n",
       "      <td>Lisboa</td>\n",
       "      <td>no</td>\n",
       "      <td>6108.0</td>\n",
       "      <td>yes</td>\n",
       "      <td>n</td>\n",
       "      <td>cellular</td>\n",
       "      <td>17</td>\n",
       "      <td>jul</td>\n",
       "      <td>796</td>\n",
       "      <td>2.0</td>\n",
       "      <td>-1</td>\n",
       "      <td>0.0</td>\n",
       "      <td>unknown</td>\n",
       "      <td>no</td>\n",
       "    </tr>\n",
       "    <tr>\n",
       "      <th>16721</th>\n",
       "      <td>8.0</td>\n",
       "      <td>retired</td>\n",
       "      <td>married</td>\n",
       "      <td>secondary</td>\n",
       "      <td>NaN</td>\n",
       "      <td>no</td>\n",
       "      <td>263.0</td>\n",
       "      <td>no</td>\n",
       "      <td>n</td>\n",
       "      <td>unknown</td>\n",
       "      <td>6</td>\n",
       "      <td>jun</td>\n",
       "      <td>761</td>\n",
       "      <td>3.0</td>\n",
       "      <td>-1</td>\n",
       "      <td>0.0</td>\n",
       "      <td>unknown</td>\n",
       "      <td>no</td>\n",
       "    </tr>\n",
       "    <tr>\n",
       "      <th>26884</th>\n",
       "      <td>8.0</td>\n",
       "      <td>management</td>\n",
       "      <td>married</td>\n",
       "      <td>tertiary</td>\n",
       "      <td>NaN</td>\n",
       "      <td>no</td>\n",
       "      <td>517.0</td>\n",
       "      <td>yes</td>\n",
       "      <td>no</td>\n",
       "      <td>unknown</td>\n",
       "      <td>5</td>\n",
       "      <td>may</td>\n",
       "      <td>251</td>\n",
       "      <td>1.0</td>\n",
       "      <td>-1</td>\n",
       "      <td>0.0</td>\n",
       "      <td>unknown</td>\n",
       "      <td>no</td>\n",
       "    </tr>\n",
       "    <tr>\n",
       "      <th>29074</th>\n",
       "      <td>8.0</td>\n",
       "      <td>housemaid</td>\n",
       "      <td>divorced</td>\n",
       "      <td>primary</td>\n",
       "      <td>Porto</td>\n",
       "      <td>no</td>\n",
       "      <td>947.0</td>\n",
       "      <td>yes</td>\n",
       "      <td>no</td>\n",
       "      <td>unknown</td>\n",
       "      <td>5</td>\n",
       "      <td>may</td>\n",
       "      <td>163</td>\n",
       "      <td>1.0</td>\n",
       "      <td>-1</td>\n",
       "      <td>0.0</td>\n",
       "      <td>unknown</td>\n",
       "      <td>no</td>\n",
       "    </tr>\n",
       "    <tr>\n",
       "      <th>30057</th>\n",
       "      <td>8.0</td>\n",
       "      <td>blue-collar</td>\n",
       "      <td>single</td>\n",
       "      <td>secondary</td>\n",
       "      <td>Lisboa</td>\n",
       "      <td>no</td>\n",
       "      <td>1257.0</td>\n",
       "      <td>yes</td>\n",
       "      <td>n</td>\n",
       "      <td>cellular</td>\n",
       "      <td>14</td>\n",
       "      <td>may</td>\n",
       "      <td>350</td>\n",
       "      <td>2.0</td>\n",
       "      <td>-1</td>\n",
       "      <td>0.0</td>\n",
       "      <td>unknown</td>\n",
       "      <td>no</td>\n",
       "    </tr>\n",
       "    <tr>\n",
       "      <th>32386</th>\n",
       "      <td>8.0</td>\n",
       "      <td>admin.</td>\n",
       "      <td>single</td>\n",
       "      <td>tertiary</td>\n",
       "      <td>NaN</td>\n",
       "      <td>no</td>\n",
       "      <td>2317.0</td>\n",
       "      <td>yes</td>\n",
       "      <td>no</td>\n",
       "      <td>cellular</td>\n",
       "      <td>19</td>\n",
       "      <td>nov</td>\n",
       "      <td>56</td>\n",
       "      <td>2.0</td>\n",
       "      <td>-1</td>\n",
       "      <td>0.0</td>\n",
       "      <td>unknown</td>\n",
       "      <td>no</td>\n",
       "    </tr>\n",
       "    <tr>\n",
       "      <th>33709</th>\n",
       "      <td>8.0</td>\n",
       "      <td>unemployed</td>\n",
       "      <td>single</td>\n",
       "      <td>primary</td>\n",
       "      <td>NaN</td>\n",
       "      <td>no</td>\n",
       "      <td>289.0</td>\n",
       "      <td>no</td>\n",
       "      <td>no</td>\n",
       "      <td>cellular</td>\n",
       "      <td>5</td>\n",
       "      <td>feb</td>\n",
       "      <td>210</td>\n",
       "      <td>1.0</td>\n",
       "      <td>-1</td>\n",
       "      <td>0.0</td>\n",
       "      <td>unknown</td>\n",
       "      <td>no</td>\n",
       "    </tr>\n",
       "    <tr>\n",
       "      <th>34886</th>\n",
       "      <td>8.0</td>\n",
       "      <td>student</td>\n",
       "      <td>married</td>\n",
       "      <td>unknown</td>\n",
       "      <td>Porto</td>\n",
       "      <td>no</td>\n",
       "      <td>-7.0</td>\n",
       "      <td>no</td>\n",
       "      <td>n</td>\n",
       "      <td>telephone</td>\n",
       "      <td>31</td>\n",
       "      <td>jul</td>\n",
       "      <td>41</td>\n",
       "      <td>6.0</td>\n",
       "      <td>-1</td>\n",
       "      <td>0.0</td>\n",
       "      <td>unknown</td>\n",
       "      <td>no</td>\n",
       "    </tr>\n",
       "  </tbody>\n",
       "</table>\n",
       "</div>"
      ],
      "text/plain": [
       "       age          job   marital  education location default  balance  \\\n",
       "1384   8.0  blue-collar  divorced    primary      NaN      no     21.0   \n",
       "4849   8.0   technician    single   tertiary   Lisboa      no      0.0   \n",
       "5335   8.0   management    single   tertiary    Porto      no    334.0   \n",
       "6662   8.0   technician    single   tertiary      NaN      no    411.0   \n",
       "7207   8.0    housemaid   married    primary      NaN      no    994.0   \n",
       "8198   8.0   management  divorced   tertiary      NaN      no    224.0   \n",
       "9251   8.0      retired   married  secondary      NaN      no    289.0   \n",
       "9971   8.0   technician   married   tertiary    Porto      no    104.0   \n",
       "15781  8.0   technician  divorced   tertiary   Lisboa      no    568.0   \n",
       "16295  8.0      retired   married   tertiary   Lisboa      no   6108.0   \n",
       "16721  8.0      retired   married  secondary      NaN      no    263.0   \n",
       "26884  8.0   management   married   tertiary      NaN      no    517.0   \n",
       "29074  8.0    housemaid  divorced    primary    Porto      no    947.0   \n",
       "30057  8.0  blue-collar    single  secondary   Lisboa      no   1257.0   \n",
       "32386  8.0       admin.    single   tertiary      NaN      no   2317.0   \n",
       "33709  8.0   unemployed    single    primary      NaN      no    289.0   \n",
       "34886  8.0      student   married    unknown    Porto      no     -7.0   \n",
       "\n",
       "      housing loan    contact  day month  duration  campaign  pdays  previous  \\\n",
       "1384      yes   no   cellular    4   feb       166       2.0     -1       0.0   \n",
       "4849      yes   no    unknown    7   may       104       2.0     -1       0.0   \n",
       "5335       no   no   cellular   14   aug       144       2.0     -1       0.0   \n",
       "6662       no    n   cellular   22   oct       127       3.0    149       2.0   \n",
       "7207       no  yes   cellular   28   jul      1339       3.0     -1       0.0   \n",
       "8198      yes   no   cellular    5   may       106       1.0     -1       0.0   \n",
       "9251       no   no   cellular   10   jul       226       1.0     -1       0.0   \n",
       "9971       no   no   cellular   14   aug       244       2.0     -1       0.0   \n",
       "15781     yes   no    unknown   24   oct       112       1.0     -1       0.0   \n",
       "16295     yes    n   cellular   17   jul       796       2.0     -1       0.0   \n",
       "16721      no    n    unknown    6   jun       761       3.0     -1       0.0   \n",
       "26884     yes   no    unknown    5   may       251       1.0     -1       0.0   \n",
       "29074     yes   no    unknown    5   may       163       1.0     -1       0.0   \n",
       "30057     yes    n   cellular   14   may       350       2.0     -1       0.0   \n",
       "32386     yes   no   cellular   19   nov        56       2.0     -1       0.0   \n",
       "33709      no   no   cellular    5   feb       210       1.0     -1       0.0   \n",
       "34886      no    n  telephone   31   jul        41       6.0     -1       0.0   \n",
       "\n",
       "      poutcome    y  \n",
       "1384   unknown   no  \n",
       "4849   unknown   no  \n",
       "5335   unknown   no  \n",
       "6662   failure  yes  \n",
       "7207   unknown   no  \n",
       "8198   unknown   no  \n",
       "9251   unknown   no  \n",
       "9971   unknown   no  \n",
       "15781  unknown  yes  \n",
       "16295  unknown   no  \n",
       "16721  unknown   no  \n",
       "26884  unknown   no  \n",
       "29074  unknown   no  \n",
       "30057  unknown   no  \n",
       "32386  unknown   no  \n",
       "33709  unknown   no  \n",
       "34886  unknown   no  "
      ]
     },
     "execution_count": 46,
     "metadata": {},
     "output_type": "execute_result"
    }
   ],
   "source": [
    "df_underage = df[df['age']<18] #criando un dataframe apenas com pessoas cuja idade é menor que 18\n",
    "df_underage#visualizando esse dataframe"
   ]
  },
  {
   "cell_type": "markdown",
   "metadata": {},
   "source": [
    "<p> Elas existem! Temos vários dados cuja a idade é 8, o que não deveria acontecer. Não só isso como as profissões excluem a possibilidade de \"contas kids\" existirem nesse banco. Por enquanto vamos deletar esses valores também: </p>"
   ]
  },
  {
   "cell_type": "code",
   "execution_count": 47,
   "metadata": {},
   "outputs": [
    {
     "name": "stderr",
     "output_type": "stream",
     "text": [
      "c:\\Users\\Usuario\\anaconda3\\Lib\\site-packages\\seaborn\\_oldcore.py:1119: FutureWarning: use_inf_as_na option is deprecated and will be removed in a future version. Convert inf values to NaN before operating instead.\n",
      "  with pd.option_context('mode.use_inf_as_na', True):\n"
     ]
    },
    {
     "data": {
      "text/plain": [
       "<Axes: ylabel='age'>"
      ]
     },
     "execution_count": 47,
     "metadata": {},
     "output_type": "execute_result"
    },
    {
     "data": {
      "image/png": "[encoded data removed]",
      "text/plain": [
       "<Figure size 1200x500 with 2 Axes>"
      ]
     },
     "metadata": {},
     "output_type": "display_data"
    }
   ],
   "source": [
    "df['age'] = df['age'].replace({8: np.nan})\n",
    "plt.figure(figsize = (12,5))\n",
    "plt.subplot(1,2,1)\n",
    "sns.histplot(data = df, x = \"age\")\n",
    "plt.subplot(1,2,2)\n",
    "sns.boxplot(data = df, y = 'age')"
   ]
  },
  {
   "cell_type": "markdown",
   "metadata": {},
   "source": [
    "<p> Agora os dados parecem muito mais confiáveis! </p>"
   ]
  },
  {
   "cell_type": "markdown",
   "metadata": {},
   "source": [
    "<p> Contudo, o que fazemos com os espaço deixado pelos dados deletados? </p>"
   ]
  },
  {
   "cell_type": "markdown",
   "metadata": {},
   "source": [
    "<p> Como o restante das features deixados por aquela pessoa estão intactas e ainda podem ser úteis, vamos imputar a moda dos demais valores aos dados faltantes a fim de manter a funcionalidade do dataset: </p>"
   ]
  },
  {
   "cell_type": "code",
   "execution_count": 48,
   "metadata": {},
   "outputs": [],
   "source": [
    "df['age'] = df['age'].replace({np.nan: df['age'].mode().values})#aplicando a moda aos valores faltantes"
   ]
  },
  {
   "cell_type": "markdown",
   "metadata": {},
   "source": [
    "<p> lembrando que, a partir de agora, o gráfico de barras parecerá estranho. Isso ocorre pois haviam, antes dessa limpeza, ainda mais dados faltantes na feature \"age\", os quais foram todos definidos pela moda:"
   ]
  },
  {
   "cell_type": "code",
   "execution_count": 49,
   "metadata": {},
   "outputs": [
    {
     "name": "stderr",
     "output_type": "stream",
     "text": [
      "c:\\Users\\Usuario\\anaconda3\\Lib\\site-packages\\seaborn\\_oldcore.py:1119: FutureWarning: use_inf_as_na option is deprecated and will be removed in a future version. Convert inf values to NaN before operating instead.\n",
      "  with pd.option_context('mode.use_inf_as_na', True):\n"
     ]
    },
    {
     "data": {
      "text/plain": [
       "<Axes: xlabel='age', ylabel='Count'>"
      ]
     },
     "execution_count": 49,
     "metadata": {},
     "output_type": "execute_result"
    },
    {
     "data": {
      "image/png": "[encoded data removed]",
      "text/plain": [
       "<Figure size 600x500 with 1 Axes>"
      ]
     },
     "metadata": {},
     "output_type": "display_data"
    }
   ],
   "source": [
    "plt.figure(figsize = (6,5))\n",
    "plt.subplot(1,2,1)\n",
    "sns.histplot(data = df, x = \"age\")"
   ]
  },
  {
   "cell_type": "markdown",
   "metadata": {},
   "source": [
    "<p> Contudo, isso não retira a funcionalidade do dataset, muito pelo contrário: agora com valores valores reais de idade para todas as pessoas, esses dados poderão ser utilizados com mais liberdade. </p>\n",
    "<p> Faremos o mesmo com as demais features numéricas: </p>"
   ]
  },
  {
   "cell_type": "code",
   "execution_count": 50,
   "metadata": {},
   "outputs": [],
   "source": [
    "df['previous'] = df['previous'].replace({275: np.nan})\n",
    "df['previous'] = df['previous'].replace({np.nan: df['previous'].mode().values})\n",
    "df['campain'] = df['campaign'].replace({np.nan: df['campaign'].mode().values})\n"
   ]
  },
  {
   "cell_type": "markdown",
   "metadata": {},
   "source": []
  },
  {
   "cell_type": "markdown",
   "metadata": {},
   "source": [
    "<h3>Relação entre features categóricos e o resultado da campanha </h3>"
   ]
  },
  {
   "cell_type": "markdown",
   "metadata": {},
   "source": [
    "<p>Quando se trata de análise de dados, é comum a utilização dos mais diversos gráficos em busca da melhor vizualização das relações entre as features.</p>"
   ]
  },
  {
   "cell_type": "markdown",
   "metadata": {},
   "source": [
    "<p> Como estamos interessados na relação das features com o sucesso da campanha, podemos analisar por meio de gráficos percentis aquelas que são categóricas a fim de encontrar maiores ou menores incidências de \"yes\" na feature \"y\", assim como já fizemos com o \"poutcome\" e o \"location\". Começaremos com \"housing\" e \"loan\" com fins de demosntração: </p>"
   ]
  },
  {
   "cell_type": "code",
   "execution_count": 51,
   "metadata": {},
   "outputs": [
    {
     "data": {
      "text/plain": [
       "<Axes: xlabel='loan'>"
      ]
     },
     "execution_count": 51,
     "metadata": {},
     "output_type": "execute_result"
    },
    {
     "data": {
      "text/plain": [
       "<Figure size 2000x500 with 0 Axes>"
      ]
     },
     "metadata": {},
     "output_type": "display_data"
    },
    {
     "data": {
      "image/png": "[encoded data removed]",
      "text/plain": [
       "<Figure size 640x480 with 1 Axes>"
      ]
     },
     "metadata": {},
     "output_type": "display_data"
    },
    {
     "data": {
      "image/png": "[encoded data removed]",
      "text/plain": [
       "<Figure size 640x480 with 1 Axes>"
      ]
     },
     "metadata": {},
     "output_type": "display_data"
    }
   ],
   "source": [
    "df_loan_corrected = df.copy() #copiando df, pois este irá ser alterado\n",
    "df_loan_corrected['loan'] = df_loan_corrected['loan'].replace({'y': 'yes', 'n': 'no'})\n",
    "plt.figure(figsize = (20,5))\n",
    "(df.groupby('housing')['y'].value_counts(normalize=True)\n",
    "   .unstack('y').plot.bar(stacked=True)\n",
    ")\n",
    "(df_loan_corrected.groupby('loan')['y'].value_counts(normalize=True)\n",
    "   .unstack('y').plot.bar(stacked=True)\n",
    ")"
   ]
  },
  {
   "cell_type": "markdown",
   "metadata": {},
   "source": [
    "<p> Esses gráficos reevelam que, seja um empréstimo ativo ou habitacional, pessoas que não o possuem têm maior tendência a contratar o serviço do banco, informação que será útil para o treinamento de nosso algorítmo. A disparidade observada no gráfico pode parecer pequena. Contudo, esta advém de uma relação real entre as features, tendo em vista que o tamanho do dataset não toleraria esse tipo de coincidência. </p>"
   ]
  },
  {
   "cell_type": "code",
   "execution_count": 52,
   "metadata": {},
   "outputs": [
    {
     "data": {
      "text/plain": [
       "<Figure size 809x500 with 0 Axes>"
      ]
     },
     "metadata": {},
     "output_type": "display_data"
    },
    {
     "data": {
      "image/png": "[encoded data removed]",
      "text/plain": [
       "<Figure size 640x480 with 1 Axes>"
      ]
     },
     "metadata": {},
     "output_type": "display_data"
    },
    {
     "data": {
      "text/plain": [
       "<Figure size 809x500 with 0 Axes>"
      ]
     },
     "metadata": {},
     "output_type": "display_data"
    },
    {
     "data": {
      "image/png": "[encoded data removed]",
      "text/plain": [
       "<Figure size 640x480 with 1 Axes>"
      ]
     },
     "metadata": {},
     "output_type": "display_data"
    },
    {
     "data": {
      "text/plain": [
       "<Figure size 809x500 with 0 Axes>"
      ]
     },
     "metadata": {},
     "output_type": "display_data"
    },
    {
     "data": {
      "image/png": "[encoded data removed]",
      "text/plain": [
       "<Figure size 640x480 with 1 Axes>"
      ]
     },
     "metadata": {},
     "output_type": "display_data"
    }
   ],
   "source": [
    "plt.figure(figsize = (8.09,5))\n",
    "(df.groupby('education')['y'].value_counts(normalize=True)\n",
    "   .unstack('y').plot.bar(stacked=True)\n",
    ")\n",
    "plt.show()\n",
    "plt.figure(figsize = (8.09,5))\n",
    "(df.groupby('marital')['y'].value_counts(normalize=True)\n",
    "   .unstack('y').plot.bar(stacked=True)\n",
    ")\n",
    "plt.show()\n",
    "plt.figure(figsize = (8.09,5))\n",
    "(df.groupby('default')['y'].value_counts(normalize=True)\n",
    "   .unstack('y').plot.bar(stacked=True)\n",
    ")\n",
    "plt.show()"
   ]
  },
  {
   "cell_type": "markdown",
   "metadata": {},
   "source": [
    "<p> Dessa vez analisando o nivel de escolaridade, temos que quanto maior o mesmo, maior a chance do banco ser contratado.</p>\n",
    "<p> No caso do estado civil, pessoas com maior tendência a contratar o serviço são aquelas sem um cônjuge. </p>\n",
    "<p> No Default, ou seja, possessão de crédito de inadimplência, vemos que pessoas sem crédito têm mais chances de contratar o banco. </p>"
   ]
  },
  {
   "cell_type": "code",
   "execution_count": 53,
   "metadata": {},
   "outputs": [
    {
     "data": {
      "text/plain": [
       "<Figure size 809x500 with 0 Axes>"
      ]
     },
     "metadata": {},
     "output_type": "display_data"
    },
    {
     "data": {
      "image/png": "[encoded data removed]",
      "text/plain": [
       "<Figure size 640x480 with 1 Axes>"
      ]
     },
     "metadata": {},
     "output_type": "display_data"
    }
   ],
   "source": [
    "plt.figure(figsize = (8.09,5))\n",
    "(df.groupby('job')['y'].value_counts(normalize=True)\n",
    "   .unstack('y').plot.bar(stacked=True)\n",
    ")\n",
    "plt.show()"
   ]
  },
  {
   "cell_type": "markdown",
   "metadata": {},
   "source": [
    "<p> Quando se trata do trabalho exercido pelo cliente, é observado que aposentados e estudantes são aqueles mais prováveis de contratar o banco. As profissões que menos contratam são: colarinho azul, empregado doméstico, empreendedor e serviços.</p>"
   ]
  },
  {
   "cell_type": "markdown",
   "metadata": {},
   "source": [
    "<h3> Trabalhando com o momento da campanha </h3>"
   ]
  },
  {
   "cell_type": "markdown",
   "metadata": {},
   "source": [
    "<p> É possível que o momento da campanha influencie as chances dela ser bem sucedida. Por isso precisamos organizar o dataset para que essa influência possa se tornar mais fácil de vizualizar. Caso não façamos isso, os meses estarão na ordem errada, atrapalhando a análise: </p>"
   ]
  },
  {
   "cell_type": "code",
   "execution_count": 54,
   "metadata": {},
   "outputs": [
    {
     "data": {
      "text/plain": [
       "<Figure size 1200x500 with 0 Axes>"
      ]
     },
     "metadata": {},
     "output_type": "display_data"
    },
    {
     "data": {
      "image/png": "[encoded data removed]",
      "text/plain": [
       "<Figure size 640x480 with 1 Axes>"
      ]
     },
     "metadata": {},
     "output_type": "display_data"
    },
    {
     "data": {
      "image/png": "[encoded data removed]",
      "text/plain": [
       "<Figure size 1200x500 with 1 Axes>"
      ]
     },
     "metadata": {},
     "output_type": "display_data"
    }
   ],
   "source": [
    "#Caso não façamos isso, os meses estarão na ordem errada, atrapalhando a analise\n",
    "plt.figure(figsize = (12,5))\n",
    "(df.groupby('month')['y'].value_counts(normalize=True)\n",
    "   .unstack('y').plot.bar(stacked=True)\n",
    ")\n",
    "plt.show()\n",
    "plt.figure(figsize = (12,5))\n",
    "sns.countplot(data = df, x = \"month\", hue = \"y\")\n",
    "plt.show()"
   ]
  },
  {
   "cell_type": "markdown",
   "metadata": {},
   "source": [
    "<p> Para isso, vamos transformar a coluna \"month\" em uma feature numérica, visto que, sendo descrita pelo dataset pelo nome do mês, ela se categoriza como uma categórica e dificulta uma devida vizualização. </p>"
   ]
  },
  {
   "cell_type": "code",
   "execution_count": 55,
   "metadata": {},
   "outputs": [
    {
     "name": "stderr",
     "output_type": "stream",
     "text": [
      "C:\\Users\\Usuario\\AppData\\Local\\Temp\\ipykernel_19092\\1883841634.py:1: FutureWarning: Downcasting behavior in `replace` is deprecated and will be removed in a future version. To retain the old behavior, explicitly call `result.infer_objects(copy=False)`. To opt-in to the future behavior, set `pd.set_option('future.no_silent_downcasting', True)`\n",
      "  df = df.replace({\n"
     ]
    }
   ],
   "source": [
    "df = df.replace({\n",
    "    'jan': 1, 'feb': 2, 'mar': 3, 'apr': 4,\n",
    "    'may': 5, 'jun': 6, 'jul': 7, 'aug': 8,\n",
    "    'sep': 9, 'oct': 10, 'nov': 11, 'dec': 12\n",
    "})"
   ]
  },
  {
   "cell_type": "code",
   "execution_count": 56,
   "metadata": {},
   "outputs": [
    {
     "data": {
      "text/plain": [
       "<Figure size 1200x500 with 0 Axes>"
      ]
     },
     "metadata": {},
     "output_type": "display_data"
    },
    {
     "data": {
      "image/png": "[encoded data removed]",
      "text/plain": [
       "<Figure size 640x480 with 1 Axes>"
      ]
     },
     "metadata": {},
     "output_type": "display_data"
    },
    {
     "data": {
      "image/png": "[encoded data removed]",
      "text/plain": [
       "<Figure size 1200x500 with 1 Axes>"
      ]
     },
     "metadata": {},
     "output_type": "display_data"
    }
   ],
   "source": [
    "#checar se está funcionando via gráfico percentil de barras:\n",
    "plt.figure(figsize = (12,5))\n",
    "(df.groupby('month')['y'].value_counts(normalize=True)\n",
    "   .unstack('y').plot.bar(stacked=True)\n",
    ")\n",
    "plt.show()\n",
    "plt.figure(figsize = (12,5))\n",
    "sns.countplot(data = df, x = \"month\", hue = \"y\")\n",
    "plt.show()"
   ]
  },
  {
   "cell_type": "markdown",
   "metadata": {},
   "source": [
    "<p> Está funcionando! Agora sabemos os meses com maior taxa de contratação, assim como o período do ano nos quais se fazem mais ligações. </p>"
   ]
  },
  {
   "cell_type": "markdown",
   "metadata": {},
   "source": [
    "<p> Quanto à feature \"dia\", devido ao fato que poderia ser um dia de qualquer mês do jeito que ela se apresenta, ela não é útil em nossa análise. Vamos, portanto, deletá-la: </p>"
   ]
  },
  {
   "cell_type": "code",
   "execution_count": 57,
   "metadata": {},
   "outputs": [
    {
     "data": {
      "text/html": [
       "<div>\n",
       "<style scoped>\n",
       "    .dataframe tbody tr th:only-of-type {\n",
       "        vertical-align: middle;\n",
       "    }\n",
       "\n",
       "    .dataframe tbody tr th {\n",
       "        vertical-align: top;\n",
       "    }\n",
       "\n",
       "    .dataframe thead th {\n",
       "        text-align: right;\n",
       "    }\n",
       "</style>\n",
       "<table border=\"1\" class=\"dataframe\">\n",
       "  <thead>\n",
       "    <tr style=\"text-align: right;\">\n",
       "      <th></th>\n",
       "      <th>age</th>\n",
       "      <th>job</th>\n",
       "      <th>marital</th>\n",
       "      <th>education</th>\n",
       "      <th>location</th>\n",
       "      <th>default</th>\n",
       "      <th>balance</th>\n",
       "      <th>housing</th>\n",
       "      <th>loan</th>\n",
       "      <th>contact</th>\n",
       "      <th>month</th>\n",
       "      <th>duration</th>\n",
       "      <th>campaign</th>\n",
       "      <th>pdays</th>\n",
       "      <th>previous</th>\n",
       "      <th>poutcome</th>\n",
       "      <th>y</th>\n",
       "      <th>campain</th>\n",
       "    </tr>\n",
       "  </thead>\n",
       "  <tbody>\n",
       "    <tr>\n",
       "      <th>0</th>\n",
       "      <td>41.0</td>\n",
       "      <td>management</td>\n",
       "      <td>single</td>\n",
       "      <td>tertiary</td>\n",
       "      <td>NaN</td>\n",
       "      <td>no</td>\n",
       "      <td>4522.0</td>\n",
       "      <td>no</td>\n",
       "      <td>no</td>\n",
       "      <td>cellular</td>\n",
       "      <td>8</td>\n",
       "      <td>55</td>\n",
       "      <td>1.0</td>\n",
       "      <td>-1</td>\n",
       "      <td>0.0</td>\n",
       "      <td>unknown</td>\n",
       "      <td>no</td>\n",
       "      <td>1.0</td>\n",
       "    </tr>\n",
       "    <tr>\n",
       "      <th>1</th>\n",
       "      <td>42.0</td>\n",
       "      <td>blue-collar</td>\n",
       "      <td>married</td>\n",
       "      <td>primary</td>\n",
       "      <td>NaN</td>\n",
       "      <td>yes</td>\n",
       "      <td>398.0</td>\n",
       "      <td>yes</td>\n",
       "      <td>n</td>\n",
       "      <td>unknown</td>\n",
       "      <td>5</td>\n",
       "      <td>251</td>\n",
       "      <td>4.0</td>\n",
       "      <td>-1</td>\n",
       "      <td>0.0</td>\n",
       "      <td>unknown</td>\n",
       "      <td>no</td>\n",
       "      <td>4.0</td>\n",
       "    </tr>\n",
       "    <tr>\n",
       "      <th>2</th>\n",
       "      <td>26.0</td>\n",
       "      <td>student</td>\n",
       "      <td>single</td>\n",
       "      <td>secondary</td>\n",
       "      <td>Lisboa</td>\n",
       "      <td>no</td>\n",
       "      <td>706.0</td>\n",
       "      <td>no</td>\n",
       "      <td>no</td>\n",
       "      <td>unknown</td>\n",
       "      <td>10</td>\n",
       "      <td>118</td>\n",
       "      <td>1.0</td>\n",
       "      <td>105</td>\n",
       "      <td>2.0</td>\n",
       "      <td>other</td>\n",
       "      <td>no</td>\n",
       "      <td>1.0</td>\n",
       "    </tr>\n",
       "  </tbody>\n",
       "</table>\n",
       "</div>"
      ],
      "text/plain": [
       "    age          job  marital  education location default  balance housing  \\\n",
       "0  41.0   management   single   tertiary      NaN      no   4522.0      no   \n",
       "1  42.0  blue-collar  married    primary      NaN     yes    398.0     yes   \n",
       "2  26.0      student   single  secondary   Lisboa      no    706.0      no   \n",
       "\n",
       "  loan   contact  month  duration  campaign  pdays  previous poutcome   y  \\\n",
       "0   no  cellular      8        55       1.0     -1       0.0  unknown  no   \n",
       "1    n   unknown      5       251       4.0     -1       0.0  unknown  no   \n",
       "2   no   unknown     10       118       1.0    105       2.0    other  no   \n",
       "\n",
       "   campain  \n",
       "0      1.0  \n",
       "1      4.0  \n",
       "2      1.0  "
      ]
     },
     "execution_count": 57,
     "metadata": {},
     "output_type": "execute_result"
    }
   ],
   "source": [
    "df = df.drop(columns=[\"day\"])\n",
    "df.head(3)"
   ]
  },
  {
   "cell_type": "markdown",
   "metadata": {},
   "source": [
    "<h3> Lidando com outliers </h3>"
   ]
  },
  {
   "cell_type": "markdown",
   "metadata": {},
   "source": [
    "<p> Previamente removemos valores que, por serem muito grandes ou pequenos, não faziam sentido dado o contexto da feature e por isso foram removidos. Mas o que fazer quando o valor, apesar de ser muito diferente dos demais, é verdadeiro? </p>"
   ]
  },
  {
   "cell_type": "markdown",
   "metadata": {},
   "source": [
    "Esse tipo de valor, conhecido como outlier, deve ser mudado para que não atrapalhe a análise do algorítmo. No caso de um K-nearest neighbor, por exemplo, um outlier faz com que diferenças significativas (como entre 10 e 100) sejam ofuscadas pela grande e singular diferença derivada do outilier (como entre 10 e 100000)."
   ]
  },
  {
   "cell_type": "markdown",
   "metadata": {},
   "source": [
    "<p> Para resolver esse problema e manter o caráter grande dos outliers, criaremos um intervalo limitante na feature e transormaremos outliers grandes e pequenos no máximo e mínimo do intervalo, respectivamente. Primeiramente demonstraremos isso com a feature \"balance\": </p>"
   ]
  },
  {
   "cell_type": "code",
   "execution_count": 58,
   "metadata": {},
   "outputs": [
    {
     "name": "stderr",
     "output_type": "stream",
     "text": [
      "c:\\Users\\Usuario\\anaconda3\\Lib\\site-packages\\seaborn\\_oldcore.py:1119: FutureWarning: use_inf_as_na option is deprecated and will be removed in a future version. Convert inf values to NaN before operating instead.\n",
      "  with pd.option_context('mode.use_inf_as_na', True):\n"
     ]
    },
    {
     "data": {
      "image/png": "[encoded data removed]",
      "text/plain": [
       "<Figure size 640x480 with 1 Axes>"
      ]
     },
     "metadata": {},
     "output_type": "display_data"
    }
   ],
   "source": [
    "sns.histplot(data = df, x = \"balance\")\n",
    "plt.show()"
   ]
  },
  {
   "cell_type": "markdown",
   "metadata": {},
   "source": [
    "<p> Como podemos ver, o gráfico é fortemente prejudicado pelos outliers assim como serão os algorítimos os quais utilizarem dessa feature. Vamos aplicar a técnica descrita anteriormente, sendo o intervalo arbitrariamente definido como entre -2000 e 10000: </p>"
   ]
  },
  {
   "cell_type": "code",
   "execution_count": 60,
   "metadata": {},
   "outputs": [
    {
     "name": "stderr",
     "output_type": "stream",
     "text": [
      "c:\\Users\\Usuario\\anaconda3\\Lib\\site-packages\\seaborn\\_oldcore.py:1119: FutureWarning: use_inf_as_na option is deprecated and will be removed in a future version. Convert inf values to NaN before operating instead.\n",
      "  with pd.option_context('mode.use_inf_as_na', True):\n"
     ]
    },
    {
     "data": {
      "image/png": "[encoded data removed]",
      "text/plain": [
       "<Figure size 640x480 with 1 Axes>"
      ]
     },
     "metadata": {},
     "output_type": "display_data"
    }
   ],
   "source": [
    "df['balance'] = df['balance'].apply(lambda x: 10000 if x > 10000 else x)\n",
    "df['balance'] = df['balance'].apply(lambda x: -2000 if x < -2000 else x)\n",
    "sns.histplot(data = df, x = \"balance\")\n",
    "plt.show()"
   ]
  }
 ],
 "metadata": {
  "kernelspec": {
   "display_name": "base",
   "language": "python",
   "name": "python3"
  },
  "language_info": {
   "codemirror_mode": {
    "name": "ipython",
    "version": 3
   },
   "file_extension": ".py",
   "mimetype": "text/x-python",
   "name": "python",
   "nbconvert_exporter": "python",
   "pygments_lexer": "ipython3",
   "version": "3.11.7"
  }
 },
 "nbformat": 4,
 "nbformat_minor": 2
}
